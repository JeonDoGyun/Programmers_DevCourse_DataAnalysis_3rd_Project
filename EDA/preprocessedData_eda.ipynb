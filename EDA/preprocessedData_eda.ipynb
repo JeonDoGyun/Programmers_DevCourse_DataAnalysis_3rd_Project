{
 "cells": [
  {
   "cell_type": "code",
   "execution_count": 135,
   "id": "25b6fa9d-aca9-4c83-8e4b-ac90864c1ba6",
   "metadata": {},
   "outputs": [],
   "source": [
    "from matplotlib import pyplot as plt\n",
    "import seaborn as sns\n",
    "import pandas as pd\n",
    "import numpy as np\n",
    "\n",
    "telco_customer = pd.read_csv('Telco_preprocessing.csv')"
   ]
  },
  {
   "cell_type": "code",
   "execution_count": 105,
   "id": "b48dbcaa-4602-42f0-941b-385a20db5683",
   "metadata": {},
   "outputs": [],
   "source": [
    "import warnings\n",
    "\n",
    "warnings.filterwarnings('ignore')"
   ]
  },
  {
   "cell_type": "code",
   "execution_count": 106,
   "id": "7999a1e9-d7e6-4343-9289-6669ef0184c9",
   "metadata": {},
   "outputs": [
    {
     "data": {
      "text/html": [
       "<div>\n",
       "<style scoped>\n",
       "    .dataframe tbody tr th:only-of-type {\n",
       "        vertical-align: middle;\n",
       "    }\n",
       "\n",
       "    .dataframe tbody tr th {\n",
       "        vertical-align: top;\n",
       "    }\n",
       "\n",
       "    .dataframe thead th {\n",
       "        text-align: right;\n",
       "    }\n",
       "</style>\n",
       "<table border=\"1\" class=\"dataframe\">\n",
       "  <thead>\n",
       "    <tr style=\"text-align: right;\">\n",
       "      <th></th>\n",
       "      <th>Unnamed: 0</th>\n",
       "      <th>customerID</th>\n",
       "      <th>gender</th>\n",
       "      <th>SeniorCitizen</th>\n",
       "      <th>Partner</th>\n",
       "      <th>Dependents</th>\n",
       "      <th>tenure</th>\n",
       "      <th>PhoneService</th>\n",
       "      <th>InternetService</th>\n",
       "      <th>Contract</th>\n",
       "      <th>PaperlessBilling</th>\n",
       "      <th>PaymentMethod</th>\n",
       "      <th>MonthlyCharges</th>\n",
       "      <th>TotalCharges</th>\n",
       "      <th>Churn</th>\n",
       "      <th>internet_cnt</th>\n",
       "    </tr>\n",
       "  </thead>\n",
       "  <tbody>\n",
       "    <tr>\n",
       "      <th>0</th>\n",
       "      <td>0</td>\n",
       "      <td>7590-VHVEG</td>\n",
       "      <td>Female</td>\n",
       "      <td>0</td>\n",
       "      <td>Yes</td>\n",
       "      <td>No</td>\n",
       "      <td>1</td>\n",
       "      <td>No</td>\n",
       "      <td>DSL</td>\n",
       "      <td>Month-to-month</td>\n",
       "      <td>Yes</td>\n",
       "      <td>Electronic check</td>\n",
       "      <td>29.85</td>\n",
       "      <td>29.85</td>\n",
       "      <td>No</td>\n",
       "      <td>1</td>\n",
       "    </tr>\n",
       "    <tr>\n",
       "      <th>1</th>\n",
       "      <td>1</td>\n",
       "      <td>5575-GNVDE</td>\n",
       "      <td>Male</td>\n",
       "      <td>0</td>\n",
       "      <td>No</td>\n",
       "      <td>No</td>\n",
       "      <td>34</td>\n",
       "      <td>Yes</td>\n",
       "      <td>DSL</td>\n",
       "      <td>One year</td>\n",
       "      <td>No</td>\n",
       "      <td>Mailed check</td>\n",
       "      <td>56.95</td>\n",
       "      <td>1889.50</td>\n",
       "      <td>No</td>\n",
       "      <td>2</td>\n",
       "    </tr>\n",
       "    <tr>\n",
       "      <th>2</th>\n",
       "      <td>2</td>\n",
       "      <td>3668-QPYBK</td>\n",
       "      <td>Male</td>\n",
       "      <td>0</td>\n",
       "      <td>No</td>\n",
       "      <td>No</td>\n",
       "      <td>2</td>\n",
       "      <td>Yes</td>\n",
       "      <td>DSL</td>\n",
       "      <td>Month-to-month</td>\n",
       "      <td>Yes</td>\n",
       "      <td>Mailed check</td>\n",
       "      <td>53.85</td>\n",
       "      <td>108.15</td>\n",
       "      <td>Yes</td>\n",
       "      <td>2</td>\n",
       "    </tr>\n",
       "    <tr>\n",
       "      <th>3</th>\n",
       "      <td>3</td>\n",
       "      <td>7795-CFOCW</td>\n",
       "      <td>Male</td>\n",
       "      <td>0</td>\n",
       "      <td>No</td>\n",
       "      <td>No</td>\n",
       "      <td>45</td>\n",
       "      <td>No</td>\n",
       "      <td>DSL</td>\n",
       "      <td>One year</td>\n",
       "      <td>No</td>\n",
       "      <td>Bank transfer (automatic)</td>\n",
       "      <td>42.30</td>\n",
       "      <td>1840.75</td>\n",
       "      <td>No</td>\n",
       "      <td>3</td>\n",
       "    </tr>\n",
       "    <tr>\n",
       "      <th>4</th>\n",
       "      <td>4</td>\n",
       "      <td>9237-HQITU</td>\n",
       "      <td>Female</td>\n",
       "      <td>0</td>\n",
       "      <td>No</td>\n",
       "      <td>No</td>\n",
       "      <td>2</td>\n",
       "      <td>Yes</td>\n",
       "      <td>Fiber optic</td>\n",
       "      <td>Month-to-month</td>\n",
       "      <td>Yes</td>\n",
       "      <td>Electronic check</td>\n",
       "      <td>70.70</td>\n",
       "      <td>151.65</td>\n",
       "      <td>Yes</td>\n",
       "      <td>0</td>\n",
       "    </tr>\n",
       "  </tbody>\n",
       "</table>\n",
       "</div>"
      ],
      "text/plain": [
       "   Unnamed: 0  customerID  gender  SeniorCitizen Partner Dependents  tenure  \\\n",
       "0           0  7590-VHVEG  Female              0     Yes         No       1   \n",
       "1           1  5575-GNVDE    Male              0      No         No      34   \n",
       "2           2  3668-QPYBK    Male              0      No         No       2   \n",
       "3           3  7795-CFOCW    Male              0      No         No      45   \n",
       "4           4  9237-HQITU  Female              0      No         No       2   \n",
       "\n",
       "  PhoneService InternetService        Contract PaperlessBilling  \\\n",
       "0           No             DSL  Month-to-month              Yes   \n",
       "1          Yes             DSL        One year               No   \n",
       "2          Yes             DSL  Month-to-month              Yes   \n",
       "3           No             DSL        One year               No   \n",
       "4          Yes     Fiber optic  Month-to-month              Yes   \n",
       "\n",
       "               PaymentMethod  MonthlyCharges  TotalCharges Churn  internet_cnt  \n",
       "0           Electronic check           29.85         29.85    No             1  \n",
       "1               Mailed check           56.95       1889.50    No             2  \n",
       "2               Mailed check           53.85        108.15   Yes             2  \n",
       "3  Bank transfer (automatic)           42.30       1840.75    No             3  \n",
       "4           Electronic check           70.70        151.65   Yes             0  "
      ]
     },
     "execution_count": 106,
     "metadata": {},
     "output_type": "execute_result"
    }
   ],
   "source": [
    "telco_customer.head()"
   ]
  },
  {
   "cell_type": "code",
   "execution_count": 136,
   "id": "bf6f2e15-7078-4a8a-a0ac-742d1b7712e3",
   "metadata": {},
   "outputs": [
    {
     "data": {
      "text/plain": [
       "PhoneService  Churn\n",
       "Yes           No       4653\n",
       "              Yes      1699\n",
       "No            No        510\n",
       "              Yes       170\n",
       "Name: count, dtype: int64"
      ]
     },
     "execution_count": 136,
     "metadata": {},
     "output_type": "execute_result"
    }
   ],
   "source": [
    "telco_customer[['PhoneService', 'Churn']].value_counts()"
   ]
  },
  {
   "cell_type": "markdown",
   "id": "6a3a28ac-990f-4cd2-9417-989f69dd8d51",
   "metadata": {},
   "source": [
    "### 변수 분류"
   ]
  },
  {
   "cell_type": "code",
   "execution_count": 108,
   "id": "e958d43c-ddd1-4d9d-9a14-b88dc3912093",
   "metadata": {},
   "outputs": [],
   "source": [
    "numeric_df = telco_customer[['tenure', 'MonthlyCharges', 'TotalCharges', 'internet_cnt']]\n",
    "category_df = telco_customer[['gender', 'SeniorCitizen', 'Partner', 'Dependents', 'PhoneService', 'InternetService', 'PaperlessBilling', 'PaymentMethod']]\n",
    "time_df = telco_customer[['Contract']]\n",
    "y_column = telco_customer['Churn']"
   ]
  },
  {
   "cell_type": "code",
   "execution_count": 109,
   "id": "2fb3e4d6-aa60-4fe4-8df9-aeadf743646b",
   "metadata": {
    "scrolled": true
   },
   "outputs": [
    {
     "data": {
      "image/png": "[encoded data removed]",
      "text/plain": [
       "<Figure size 1500x500 with 3 Axes>"
      ]
     },
     "metadata": {},
     "output_type": "display_data"
    }
   ],
   "source": [
    "fig, axs = plt.subplots(nrows=1, ncols=3, figsize=(15, 5))\n",
    "# 각 서브플롯에 히스토그램 그리기\n",
    "axs[0].hist(category_df['PhoneService'], bins=3, color='blue', alpha=0.7)\n",
    "axs[0].set_xlabel('PhoneService')\n",
    "axs[0].set_ylabel('Frequency')\n",
    "\n",
    "axs[1].hist(category_df['InternetService'], bins=5, color='green', alpha=0.7)\n",
    "axs[1].set_xlabel('InternetService')\n",
    "axs[1].set_ylabel('Frequency')\n",
    "\n",
    "axs[2].hist(category_df['PaymentMethod'], bins=7, color='red', alpha=0.7)\n",
    "axs[2].set_xlabel('PaymentMethod')\n",
    "axs[2].set_xticklabels(category_df['PaymentMethod'], rotation=90)\n",
    "axs[2].set_ylabel('Frequency')\n",
    "\n",
    "plt.show()"
   ]
  },
  {
   "cell_type": "markdown",
   "id": "7264868a-d996-4c87-8ce6-66f6b80548d7",
   "metadata": {},
   "source": [
    "## 인코딩\n",
    "### 인코딩 방식을 여러 개로 나눠서 진행하기\n",
    "1. Contract를 우선 순위 없이 원핫인코딩으로 진행\n",
    "2. Contract를 우선 순위를 고려하여 month < one year < two year로 레이블인코딩 하기"
   ]
  },
  {
   "cell_type": "code",
   "execution_count": 110,
   "id": "02c0dae4-da5c-4e72-8199-8c4d9a6fb98a",
   "metadata": {},
   "outputs": [],
   "source": [
    "# 종속변수는 그냥 0, 1로 인코딩\n",
    "y_column.replace(to_replace='Yes', value=1, inplace=True)\n",
    "y_column.replace(to_replace='No', value=0, inplace=True)"
   ]
  },
  {
   "cell_type": "markdown",
   "id": "074f5666-e61d-4e12-a627-02fa78aaa3c5",
   "metadata": {},
   "source": [
    "### 원핫인코딩으로 진행"
   ]
  },
  {
   "cell_type": "code",
   "execution_count": 111,
   "id": "1c007314-71b3-4cbd-b3b2-8f5f83210155",
   "metadata": {},
   "outputs": [],
   "source": [
    "binary_class_category_df = category_df[['gender', 'SeniorCitizen', 'Partner', 'Dependents', 'PhoneService', 'PaperlessBilling']]\n",
    "multi_class_category_df = category_df[['InternetService', 'PaymentMethod']] # 원핫"
   ]
  },
  {
   "cell_type": "code",
   "execution_count": 112,
   "id": "f1c06a0e-3979-4742-9a79-eae6be618dc0",
   "metadata": {},
   "outputs": [],
   "source": [
    "binary_class_category_df = binary_class_category_df.replace(to_replace='Yes', value=1)\n",
    "binary_class_category_df = binary_class_category_df.replace(to_replace='No', value=0)\n",
    "binary_class_category_df = binary_class_category_df.replace(to_replace='Male', value=1)\n",
    "binary_class_category_df = binary_class_category_df.replace(to_replace='Female', value=0)"
   ]
  },
  {
   "cell_type": "code",
   "execution_count": 113,
   "id": "baccc4a0-9d01-4b57-98d7-96c7e1ee6ddc",
   "metadata": {},
   "outputs": [],
   "source": [
    "# 방법 2에선 이 부분을 다르게\n",
    "from sklearn.preprocessing import OneHotEncoder\n",
    "\n",
    "encoder = OneHotEncoder(sparse=False)\n",
    "one_hot_encoded = encoder.fit_transform(multi_class_category_df)\n",
    "multi_class_category_df_encoded = pd.DataFrame(one_hot_encoded, columns=encoder.get_feature_names_out())"
   ]
  },
  {
   "cell_type": "code",
   "execution_count": 114,
   "id": "b9df959e-9057-4cd7-ab26-7cdeea2ce30b",
   "metadata": {},
   "outputs": [],
   "source": [
    "# 크래머V 사용\n",
    "from scipy.stats import chi2_contingency\n",
    "\n",
    "def cramers_v(x, y):\n",
    "    confusion_matrix = pd.crosstab(x, y)\n",
    "    chi2 = chi2_contingency(confusion_matrix)[0]\n",
    "    n = confusion_matrix.sum().sum()\n",
    "    phi2 = chi2 / n\n",
    "    r, k = confusion_matrix.shape\n",
    "    phi2_corr = max(0, phi2 - ((k-1)*(r-1))/(n-1))\n",
    "    r_corr = r - ((r-1)**2)/(n-1)\n",
    "    k_corr = k - ((k-1)**2)/(n-1)\n",
    "    return np.sqrt(phi2_corr / min((k_corr-1), (r_corr-1)))"
   ]
  },
  {
   "cell_type": "markdown",
   "id": "1f14eacd-2556-470d-963c-90a43b57764f",
   "metadata": {},
   "source": [
    "## 상관관계 분석"
   ]
  },
  {
   "cell_type": "markdown",
   "id": "72d47995-1fbd-480e-8fa3-eb7d3da6d154",
   "metadata": {},
   "source": [
    "### 새로 만든 컬럼에 대한 추가적인 확인이 필요"
   ]
  },
  {
   "cell_type": "code",
   "execution_count": 115,
   "id": "f330c7c9-d517-45f4-960d-9a9012322dac",
   "metadata": {},
   "outputs": [],
   "source": [
    "numeric_y = pd.concat([y_column, numeric_df], axis=1)"
   ]
  },
  {
   "cell_type": "code",
   "execution_count": 116,
   "id": "80db2910-680c-4650-908a-42c2f6a6b12a",
   "metadata": {},
   "outputs": [
    {
     "data": {
      "text/html": [
       "<div>\n",
       "<style scoped>\n",
       "    .dataframe tbody tr th:only-of-type {\n",
       "        vertical-align: middle;\n",
       "    }\n",
       "\n",
       "    .dataframe tbody tr th {\n",
       "        vertical-align: top;\n",
       "    }\n",
       "\n",
       "    .dataframe thead th {\n",
       "        text-align: right;\n",
       "    }\n",
       "</style>\n",
       "<table border=\"1\" class=\"dataframe\">\n",
       "  <thead>\n",
       "    <tr style=\"text-align: right;\">\n",
       "      <th></th>\n",
       "      <th>Churn</th>\n",
       "      <th>tenure</th>\n",
       "      <th>MonthlyCharges</th>\n",
       "      <th>TotalCharges</th>\n",
       "      <th>internet_cnt</th>\n",
       "    </tr>\n",
       "  </thead>\n",
       "  <tbody>\n",
       "    <tr>\n",
       "      <th>Churn</th>\n",
       "      <td>1.000000</td>\n",
       "      <td>0.375104</td>\n",
       "      <td>0.276009</td>\n",
       "      <td>0.000000</td>\n",
       "      <td>0.233408</td>\n",
       "    </tr>\n",
       "    <tr>\n",
       "      <th>tenure</th>\n",
       "      <td>0.375104</td>\n",
       "      <td>1.000000</td>\n",
       "      <td>0.084899</td>\n",
       "      <td>0.206289</td>\n",
       "      <td>0.264779</td>\n",
       "    </tr>\n",
       "    <tr>\n",
       "      <th>MonthlyCharges</th>\n",
       "      <td>0.276009</td>\n",
       "      <td>0.084899</td>\n",
       "      <td>1.000000</td>\n",
       "      <td>0.366105</td>\n",
       "      <td>0.582470</td>\n",
       "    </tr>\n",
       "    <tr>\n",
       "      <th>TotalCharges</th>\n",
       "      <td>0.000000</td>\n",
       "      <td>0.206289</td>\n",
       "      <td>0.366105</td>\n",
       "      <td>1.000000</td>\n",
       "      <td>0.202492</td>\n",
       "    </tr>\n",
       "    <tr>\n",
       "      <th>internet_cnt</th>\n",
       "      <td>0.233408</td>\n",
       "      <td>0.264779</td>\n",
       "      <td>0.582470</td>\n",
       "      <td>0.202492</td>\n",
       "      <td>1.000000</td>\n",
       "    </tr>\n",
       "  </tbody>\n",
       "</table>\n",
       "</div>"
      ],
      "text/plain": [
       "                   Churn    tenure  MonthlyCharges  TotalCharges  internet_cnt\n",
       "Churn           1.000000  0.375104        0.276009      0.000000      0.233408\n",
       "tenure          0.375104  1.000000        0.084899      0.206289      0.264779\n",
       "MonthlyCharges  0.276009  0.084899        1.000000      0.366105      0.582470\n",
       "TotalCharges    0.000000  0.206289        0.366105      1.000000      0.202492\n",
       "internet_cnt    0.233408  0.264779        0.582470      0.202492      1.000000"
      ]
     },
     "execution_count": 116,
     "metadata": {},
     "output_type": "execute_result"
    }
   ],
   "source": [
    "columns = numeric_y.columns\n",
    "corr = pd.DataFrame(index=columns, columns=columns, dtype=float)\n",
    "\n",
    "for col1 in columns:\n",
    "    for col2 in columns:\n",
    "        if col1 != col2:\n",
    "            corr.loc[col1, col2] = cramers_v(numeric_y[col1], numeric_y[col2])\n",
    "        else:\n",
    "            corr.loc[col1, col2] = 1.0\n",
    "\n",
    "corr"
   ]
  },
  {
   "cell_type": "code",
   "execution_count": 117,
   "id": "99ba459e-418f-4fb6-aa29-fa3023506e9a",
   "metadata": {},
   "outputs": [
    {
     "data": {
      "image/png": "[encoded data removed]",
      "text/plain": [
       "<Figure size 640x480 with 2 Axes>"
      ]
     },
     "metadata": {},
     "output_type": "display_data"
    }
   ],
   "source": [
    "sns.heatmap(corr, annot=True, cmap='coolwarm', fmt=\".2f\", linewidths=.5)\n",
    "plt.title('Cramér\\'s V Correlation Matrix')\n",
    "plt.show()"
   ]
  },
  {
   "cell_type": "markdown",
   "id": "17216df5-21ac-4572-b7dd-1aa22753f3af",
   "metadata": {
    "jp-MarkdownHeadingCollapsed": true
   },
   "source": [
    "#### 개수로 했을 때 크게 다르지 않아서 인터넷 서비스 가입 여부에 따라 다시 해봄"
   ]
  },
  {
   "cell_type": "code",
   "execution_count": 118,
   "id": "62c5fe8b-a9d3-4d49-aa74-b4d6cdaafd5e",
   "metadata": {},
   "outputs": [],
   "source": [
    "numeric_y['internet_cnt'] = np.where(numeric_y['internet_cnt'] > 0, 1, 0)"
   ]
  },
  {
   "cell_type": "code",
   "execution_count": 119,
   "id": "682b8852-b20d-480d-85d0-ec8ca2eabd35",
   "metadata": {
    "scrolled": true
   },
   "outputs": [
    {
     "data": {
      "text/plain": [
       "<Axes: xlabel='internet_cnt', ylabel='Count'>"
      ]
     },
     "execution_count": 119,
     "metadata": {},
     "output_type": "execute_result"
    },
    {
     "data": {
      "image/png": "[encoded data removed]",
      "text/plain": [
       "<Figure size 640x480 with 1 Axes>"
      ]
     },
     "metadata": {},
     "output_type": "display_data"
    }
   ],
   "source": [
    "sns.histplot(numeric_y['internet_cnt'], bins=2)"
   ]
  },
  {
   "cell_type": "code",
   "execution_count": 120,
   "id": "47b628d6-86b1-436c-99e2-ecd27ba76105",
   "metadata": {},
   "outputs": [
    {
     "data": {
      "text/html": [
       "<div>\n",
       "<style scoped>\n",
       "    .dataframe tbody tr th:only-of-type {\n",
       "        vertical-align: middle;\n",
       "    }\n",
       "\n",
       "    .dataframe tbody tr th {\n",
       "        vertical-align: top;\n",
       "    }\n",
       "\n",
       "    .dataframe thead th {\n",
       "        text-align: right;\n",
       "    }\n",
       "</style>\n",
       "<table border=\"1\" class=\"dataframe\">\n",
       "  <thead>\n",
       "    <tr style=\"text-align: right;\">\n",
       "      <th></th>\n",
       "      <th>Churn</th>\n",
       "      <th>tenure</th>\n",
       "      <th>MonthlyCharges</th>\n",
       "      <th>TotalCharges</th>\n",
       "      <th>internet_cnt</th>\n",
       "    </tr>\n",
       "  </thead>\n",
       "  <tbody>\n",
       "    <tr>\n",
       "      <th>Churn</th>\n",
       "      <td>1.000000</td>\n",
       "      <td>0.375104</td>\n",
       "      <td>0.276009</td>\n",
       "      <td>0.000000</td>\n",
       "      <td>0.077200</td>\n",
       "    </tr>\n",
       "    <tr>\n",
       "      <th>tenure</th>\n",
       "      <td>0.375104</td>\n",
       "      <td>1.000000</td>\n",
       "      <td>0.084899</td>\n",
       "      <td>0.206289</td>\n",
       "      <td>0.261484</td>\n",
       "    </tr>\n",
       "    <tr>\n",
       "      <th>MonthlyCharges</th>\n",
       "      <td>0.276009</td>\n",
       "      <td>0.084899</td>\n",
       "      <td>1.000000</td>\n",
       "      <td>0.366105</td>\n",
       "      <td>0.794801</td>\n",
       "    </tr>\n",
       "    <tr>\n",
       "      <th>TotalCharges</th>\n",
       "      <td>0.000000</td>\n",
       "      <td>0.206289</td>\n",
       "      <td>0.366105</td>\n",
       "      <td>1.000000</td>\n",
       "      <td>0.153737</td>\n",
       "    </tr>\n",
       "    <tr>\n",
       "      <th>internet_cnt</th>\n",
       "      <td>0.077200</td>\n",
       "      <td>0.261484</td>\n",
       "      <td>0.794801</td>\n",
       "      <td>0.153737</td>\n",
       "      <td>1.000000</td>\n",
       "    </tr>\n",
       "  </tbody>\n",
       "</table>\n",
       "</div>"
      ],
      "text/plain": [
       "                   Churn    tenure  MonthlyCharges  TotalCharges  internet_cnt\n",
       "Churn           1.000000  0.375104        0.276009      0.000000      0.077200\n",
       "tenure          0.375104  1.000000        0.084899      0.206289      0.261484\n",
       "MonthlyCharges  0.276009  0.084899        1.000000      0.366105      0.794801\n",
       "TotalCharges    0.000000  0.206289        0.366105      1.000000      0.153737\n",
       "internet_cnt    0.077200  0.261484        0.794801      0.153737      1.000000"
      ]
     },
     "execution_count": 120,
     "metadata": {},
     "output_type": "execute_result"
    }
   ],
   "source": [
    "columns = numeric_y.columns\n",
    "corr = pd.DataFrame(index=columns, columns=columns, dtype=float)\n",
    "\n",
    "for col1 in columns:\n",
    "    for col2 in columns:\n",
    "        if col1 != col2:\n",
    "            corr.loc[col1, col2] = cramers_v(numeric_y[col1], numeric_y[col2])\n",
    "        else:\n",
    "            corr.loc[col1, col2] = 1.0\n",
    "\n",
    "corr"
   ]
  },
  {
   "cell_type": "markdown",
   "id": "d0b2da86-1c2f-4da2-a89f-8f41021fd244",
   "metadata": {},
   "source": [
    "***더 낮은 수치가 나와서 그냥 count로 하는게 나을 듯***"
   ]
  },
  {
   "cell_type": "markdown",
   "id": "52024e55-502a-411c-beac-c522a0e46b78",
   "metadata": {},
   "source": [
    "## 1번 방식으로 진행 - 원핫인코딩"
   ]
  },
  {
   "cell_type": "code",
   "execution_count": 121,
   "id": "269d6873-60f3-42c2-adc1-58e5293db15a",
   "metadata": {},
   "outputs": [],
   "source": [
    "from sklearn.preprocessing import OneHotEncoder\n",
    "\n",
    "encoder = OneHotEncoder(sparse=False)\n",
    "one_hot_encoded = encoder.fit_transform(time_df)\n",
    "time_df_encoded = pd.DataFrame(one_hot_encoded, columns=encoder.get_feature_names_out())\n",
    "time_df_encoded = time_df_encoded.astype('int64')"
   ]
  },
  {
   "cell_type": "markdown",
   "id": "b712c278-46f5-4892-9334-055c8dda1f4e",
   "metadata": {},
   "source": [
    "### 분류모델 적용하기"
   ]
  },
  {
   "cell_type": "code",
   "execution_count": 122,
   "id": "1a28883f-9bb1-4653-beac-dcd1022f73f2",
   "metadata": {},
   "outputs": [],
   "source": [
    "# 데이터 분할 -> 나중에 적용할 때 팀이 같은 데이터 분할이 적용되도록 해야하나 생각(물어보기)\n",
    "from sklearn.model_selection import train_test_split\n",
    "\n",
    "X = pd.concat([numeric_y, time_df_encoded, multi_class_category_df_encoded, binary_class_category_df], axis=1)\n",
    "X.drop('Churn', axis=1, inplace=True)\n",
    "y = y_column\n",
    "X_train, X_test, y_train, y_test = train_test_split(X, y, test_size=0.2, random_state=42)"
   ]
  },
  {
   "cell_type": "markdown",
   "id": "9b5b5011-5c69-4a89-90af-393160ed0857",
   "metadata": {},
   "source": [
    "### 로지스틱 회귀 모델 사용"
   ]
  },
  {
   "cell_type": "code",
   "execution_count": 123,
   "id": "df8cb78a-59ba-4bce-9254-efd13623e61f",
   "metadata": {},
   "outputs": [
    {
     "name": "stdout",
     "output_type": "stream",
     "text": [
      "#################### 학습된 파라미터 값 ####################\n",
      "[[-6.67374362e-02  3.92064815e-03  3.67747180e-04 -6.10591699e-02\n",
      "   5.59450633e-01 -3.87390223e-01 -5.16042729e-01 -2.86153959e-01\n",
      "   4.61125629e-01 -5.18953988e-01 -9.86025253e-02 -2.50782604e-01\n",
      "   3.21704578e-01 -3.16301768e-01  2.58771781e-02  4.04919628e-01\n",
      "   5.92095183e-02 -2.88747443e-01 -5.88459705e-01  3.96833139e-01]]\n",
      "#################### 학습된 절편 값 ####################\n",
      "[-0.34607665]\n"
     ]
    }
   ],
   "source": [
    "from sklearn.linear_model import LogisticRegression\n",
    "\n",
    "logistic_reg = LogisticRegression()\n",
    "logistic_reg.fit(X_train, y_train)\n",
    "\n",
    "# 학습된 모델의 계수(coefficients) 및 절편(intercept) 출력\n",
    "coefficients = logistic_reg.coef_\n",
    "intercept = logistic_reg.intercept_\n",
    "\n",
    "print('#'*20, '학습된 파라미터 값', '#'*20)\n",
    "print(coefficients)\n",
    "\n",
    "print('#'*20, '학습된 절편 값', '#'*20)\n",
    "print(intercept)"
   ]
  },
  {
   "cell_type": "markdown",
   "id": "1c1370b7-2611-4997-affc-266fc1b6c86c",
   "metadata": {},
   "source": [
    "#### 학습 평가 - Confusion matrix"
   ]
  },
  {
   "cell_type": "code",
   "execution_count": 124,
   "id": "57c386b2-ab72-45b1-baac-b070cebe70ea",
   "metadata": {},
   "outputs": [
    {
     "name": "stdout",
     "output_type": "stream",
     "text": [
      "학습 데이터를 이용한 Acc 값 : 80.5%\n",
      "평가 데이터를 이용한 Acc 값 : 78.7%\n"
     ]
    }
   ],
   "source": [
    "from sklearn.metrics import accuracy_score\n",
    "\n",
    "y_train_pred = logistic_reg.predict(X_train)\n",
    "y_test_pred = logistic_reg.predict(X_test)\n",
    "\n",
    "acc_train = accuracy_score(y_train, y_train_pred)\n",
    "acc_test = accuracy_score(y_test, y_test_pred)\n",
    "\n",
    "print(f'학습 데이터를 이용한 Acc 값 : {acc_train*100:.1f}%')\n",
    "print(f'평가 데이터를 이용한 Acc 값 : {acc_test*100:.1f}%')"
   ]
  },
  {
   "cell_type": "markdown",
   "id": "e3dce9e2-4ab4-44b4-b63b-bff321ee68e6",
   "metadata": {},
   "source": [
    "#### 학습 데이터를 활용한 confusion matrix"
   ]
  },
  {
   "cell_type": "code",
   "execution_count": 125,
   "id": "5334d504-e2da-4bd6-b1ef-a0c639b38dd2",
   "metadata": {},
   "outputs": [
    {
     "data": {
      "image/png": "[encoded data removed]",
      "text/plain": [
       "<Figure size 640x480 with 2 Axes>"
      ]
     },
     "metadata": {},
     "output_type": "display_data"
    }
   ],
   "source": [
    "from sklearn.metrics import confusion_matrix\n",
    "\n",
    "cm_train = confusion_matrix(y_train, y_train_pred)\n",
    "cm_test = confusion_matrix(y_test, y_test_pred)\n",
    "\n",
    "plt.imshow(cm_train, interpolation='nearest', cmap='Blues')\n",
    "plt.title(\"Confusion Matrix (Train)\")\n",
    "plt.colorbar()\n",
    "tick_marks = np.arange(len(np.unique(y_train)))\n",
    "plt.xticks(tick_marks, np.unique(y_train))\n",
    "plt.yticks(tick_marks, np.unique(y_train))\n",
    "plt.xlabel(\"Predicted Label\")\n",
    "plt.ylabel(\"True Label\")\n",
    "\n",
    "# 각 셀에 숫자 표시\n",
    "for i in range(cm_train.shape[0]):\n",
    "    for j in range(cm_train.shape[1]):\n",
    "        plt.text(j, i, cm_train[i, j], ha=\"center\", va=\"center\", color=\"black\")"
   ]
  },
  {
   "cell_type": "markdown",
   "id": "b6d9fab2-94c9-4f7a-b3d9-91f22dee5754",
   "metadata": {},
   "source": [
    "#### 평가 데이터를 활용한 confusion matrix"
   ]
  },
  {
   "cell_type": "code",
   "execution_count": 126,
   "id": "b37a49d8-03fe-4d8e-9ba9-a71349e94670",
   "metadata": {},
   "outputs": [
    {
     "data": {
      "image/png": "[encoded data removed]",
      "text/plain": [
       "<Figure size 640x480 with 2 Axes>"
      ]
     },
     "metadata": {},
     "output_type": "display_data"
    }
   ],
   "source": [
    "plt.imshow(cm_test, interpolation='nearest', cmap='Blues')\n",
    "plt.title(\"Confusion Matrix (Test)\")\n",
    "plt.colorbar()\n",
    "tick_marks = np.arange(len(np.unique(y_test)))\n",
    "plt.xticks(tick_marks, np.unique(y_test))\n",
    "plt.yticks(tick_marks, np.unique(y_test))\n",
    "plt.xlabel(\"Predicted Label\")\n",
    "plt.ylabel(\"True Label\")\n",
    "\n",
    "# 각 셀에 숫자 표시\n",
    "for i in range(cm_test.shape[0]):\n",
    "    for j in range(cm_test.shape[1]):\n",
    "        plt.text(j, i, cm_test[i, j], ha=\"center\", va=\"center\", color=\"black\")"
   ]
  },
  {
   "cell_type": "code",
   "execution_count": 127,
   "id": "125317cc-8972-4365-9ea3-d8e941fe6302",
   "metadata": {},
   "outputs": [
    {
     "data": {
      "text/html": [
       "<div>\n",
       "<style scoped>\n",
       "    .dataframe tbody tr th:only-of-type {\n",
       "        vertical-align: middle;\n",
       "    }\n",
       "\n",
       "    .dataframe tbody tr th {\n",
       "        vertical-align: top;\n",
       "    }\n",
       "\n",
       "    .dataframe thead th {\n",
       "        text-align: right;\n",
       "    }\n",
       "</style>\n",
       "<table border=\"1\" class=\"dataframe\">\n",
       "  <thead>\n",
       "    <tr style=\"text-align: right;\">\n",
       "      <th></th>\n",
       "      <th>feature</th>\n",
       "      <th>coefficient</th>\n",
       "      <th>abs_coefficient</th>\n",
       "    </tr>\n",
       "  </thead>\n",
       "  <tbody>\n",
       "    <tr>\n",
       "      <th>18</th>\n",
       "      <td>PhoneService</td>\n",
       "      <td>-0.588460</td>\n",
       "      <td>0.588460</td>\n",
       "    </tr>\n",
       "    <tr>\n",
       "      <th>4</th>\n",
       "      <td>Contract_Month-to-month</td>\n",
       "      <td>0.559451</td>\n",
       "      <td>0.559451</td>\n",
       "    </tr>\n",
       "    <tr>\n",
       "      <th>9</th>\n",
       "      <td>InternetService_No</td>\n",
       "      <td>-0.518954</td>\n",
       "      <td>0.518954</td>\n",
       "    </tr>\n",
       "    <tr>\n",
       "      <th>6</th>\n",
       "      <td>Contract_Two year</td>\n",
       "      <td>-0.516043</td>\n",
       "      <td>0.516043</td>\n",
       "    </tr>\n",
       "    <tr>\n",
       "      <th>8</th>\n",
       "      <td>InternetService_Fiber optic</td>\n",
       "      <td>0.461126</td>\n",
       "      <td>0.461126</td>\n",
       "    </tr>\n",
       "    <tr>\n",
       "      <th>15</th>\n",
       "      <td>SeniorCitizen</td>\n",
       "      <td>0.404920</td>\n",
       "      <td>0.404920</td>\n",
       "    </tr>\n",
       "    <tr>\n",
       "      <th>19</th>\n",
       "      <td>PaperlessBilling</td>\n",
       "      <td>0.396833</td>\n",
       "      <td>0.396833</td>\n",
       "    </tr>\n",
       "    <tr>\n",
       "      <th>5</th>\n",
       "      <td>Contract_One year</td>\n",
       "      <td>-0.387390</td>\n",
       "      <td>0.387390</td>\n",
       "    </tr>\n",
       "    <tr>\n",
       "      <th>12</th>\n",
       "      <td>PaymentMethod_Electronic check</td>\n",
       "      <td>0.321705</td>\n",
       "      <td>0.321705</td>\n",
       "    </tr>\n",
       "    <tr>\n",
       "      <th>13</th>\n",
       "      <td>PaymentMethod_Mailed check</td>\n",
       "      <td>-0.316302</td>\n",
       "      <td>0.316302</td>\n",
       "    </tr>\n",
       "    <tr>\n",
       "      <th>17</th>\n",
       "      <td>Dependents</td>\n",
       "      <td>-0.288747</td>\n",
       "      <td>0.288747</td>\n",
       "    </tr>\n",
       "    <tr>\n",
       "      <th>7</th>\n",
       "      <td>InternetService_DSL</td>\n",
       "      <td>-0.286154</td>\n",
       "      <td>0.286154</td>\n",
       "    </tr>\n",
       "    <tr>\n",
       "      <th>11</th>\n",
       "      <td>PaymentMethod_Credit card (automatic)</td>\n",
       "      <td>-0.250783</td>\n",
       "      <td>0.250783</td>\n",
       "    </tr>\n",
       "    <tr>\n",
       "      <th>10</th>\n",
       "      <td>PaymentMethod_Bank transfer (automatic)</td>\n",
       "      <td>-0.098603</td>\n",
       "      <td>0.098603</td>\n",
       "    </tr>\n",
       "    <tr>\n",
       "      <th>0</th>\n",
       "      <td>tenure</td>\n",
       "      <td>-0.066737</td>\n",
       "      <td>0.066737</td>\n",
       "    </tr>\n",
       "    <tr>\n",
       "      <th>3</th>\n",
       "      <td>internet_cnt</td>\n",
       "      <td>-0.061059</td>\n",
       "      <td>0.061059</td>\n",
       "    </tr>\n",
       "    <tr>\n",
       "      <th>16</th>\n",
       "      <td>Partner</td>\n",
       "      <td>0.059210</td>\n",
       "      <td>0.059210</td>\n",
       "    </tr>\n",
       "    <tr>\n",
       "      <th>14</th>\n",
       "      <td>gender</td>\n",
       "      <td>0.025877</td>\n",
       "      <td>0.025877</td>\n",
       "    </tr>\n",
       "    <tr>\n",
       "      <th>1</th>\n",
       "      <td>MonthlyCharges</td>\n",
       "      <td>0.003921</td>\n",
       "      <td>0.003921</td>\n",
       "    </tr>\n",
       "    <tr>\n",
       "      <th>2</th>\n",
       "      <td>TotalCharges</td>\n",
       "      <td>0.000368</td>\n",
       "      <td>0.000368</td>\n",
       "    </tr>\n",
       "  </tbody>\n",
       "</table>\n",
       "</div>"
      ],
      "text/plain": [
       "                                    feature  coefficient  abs_coefficient\n",
       "18                             PhoneService    -0.588460         0.588460\n",
       "4                   Contract_Month-to-month     0.559451         0.559451\n",
       "9                        InternetService_No    -0.518954         0.518954\n",
       "6                         Contract_Two year    -0.516043         0.516043\n",
       "8               InternetService_Fiber optic     0.461126         0.461126\n",
       "15                            SeniorCitizen     0.404920         0.404920\n",
       "19                         PaperlessBilling     0.396833         0.396833\n",
       "5                         Contract_One year    -0.387390         0.387390\n",
       "12           PaymentMethod_Electronic check     0.321705         0.321705\n",
       "13               PaymentMethod_Mailed check    -0.316302         0.316302\n",
       "17                               Dependents    -0.288747         0.288747\n",
       "7                       InternetService_DSL    -0.286154         0.286154\n",
       "11    PaymentMethod_Credit card (automatic)    -0.250783         0.250783\n",
       "10  PaymentMethod_Bank transfer (automatic)    -0.098603         0.098603\n",
       "0                                    tenure    -0.066737         0.066737\n",
       "3                              internet_cnt    -0.061059         0.061059\n",
       "16                                  Partner     0.059210         0.059210\n",
       "14                                   gender     0.025877         0.025877\n",
       "1                            MonthlyCharges     0.003921         0.003921\n",
       "2                              TotalCharges     0.000368         0.000368"
      ]
     },
     "execution_count": 127,
     "metadata": {},
     "output_type": "execute_result"
    }
   ],
   "source": [
    "coeff_df = pd.DataFrame({'feature': X_train.columns, 'coefficient': logistic_reg.coef_.flatten()})\n",
    "\n",
    "# 계수의 절대값을 기준으로 내림차순 정렬\n",
    "coeff_df['abs_coefficient'] = coeff_df['coefficient'].abs()\n",
    "coeff_df_sorted = coeff_df.sort_values(by='abs_coefficient', ascending=False)\n",
    "\n",
    "# 변수의 영향력을 확인\n",
    "coeff_df_sorted"
   ]
  },
  {
   "cell_type": "code",
   "execution_count": 128,
   "id": "99062036-0fda-4a31-8ae1-c10861b506a9",
   "metadata": {},
   "outputs": [
    {
     "data": {
      "image/png": "[encoded data removed]",
      "text/plain": [
       "<Figure size 1000x600 with 1 Axes>"
      ]
     },
     "metadata": {},
     "output_type": "display_data"
    }
   ],
   "source": [
    "# 변수 영향력 시각화\n",
    "plt.figure(figsize=(10, 6))\n",
    "plt.barh(X_train.columns, logistic_reg.coef_.flatten())\n",
    "plt.xlabel('Coefficient')\n",
    "plt.ylabel('Features')\n",
    "plt.title('Features Importance')\n",
    "plt.show()"
   ]
  },
  {
   "cell_type": "markdown",
   "id": "b5cd672f-7dd9-4c7a-b987-aab8c89dace7",
   "metadata": {},
   "source": [
    "### 소프트벡터머신 돌리기"
   ]
  },
  {
   "cell_type": "markdown",
   "id": "41c0c71a-dc2d-4398-afce-bbff0bf8174b",
   "metadata": {},
   "source": [
    "#### 하이퍼 파라미터 변경해보기\n",
    "- kernel\n",
    "- C"
   ]
  },
  {
   "cell_type": "code",
   "execution_count": 129,
   "id": "2ffe21fd-0e84-4908-a817-b804696df56c",
   "metadata": {},
   "outputs": [],
   "source": [
    "from sklearn.svm import SVC\n",
    "\n",
    "svm = SVC(kernel='rbf', C=0.1)"
   ]
  },
  {
   "cell_type": "code",
   "execution_count": 130,
   "id": "28927954-0226-4b0a-9fee-0b3035a2f172",
   "metadata": {},
   "outputs": [
    {
     "data": {
      "text/html": [
       "<style>#sk-container-id-4 {color: black;background-color: white;}#sk-container-id-4 pre{padding: 0;}#sk-container-id-4 div.sk-toggleable {background-color: white;}#sk-container-id-4 label.sk-toggleable__label {cursor: pointer;display: block;width: 100%;margin-bottom: 0;padding: 0.3em;box-sizing: border-box;text-align: center;}#sk-container-id-4 label.sk-toggleable__label-arrow:before {content: \"▸\";float: left;margin-right: 0.25em;color: #696969;}#sk-container-id-4 label.sk-toggleable__label-arrow:hover:before {color: black;}#sk-container-id-4 div.sk-estimator:hover label.sk-toggleable__label-arrow:before {color: black;}#sk-container-id-4 div.sk-toggleable__content {max-height: 0;max-width: 0;overflow: hidden;text-align: left;background-color: #f0f8ff;}#sk-container-id-4 div.sk-toggleable__content pre {margin: 0.2em;color: black;border-radius: 0.25em;background-color: #f0f8ff;}#sk-container-id-4 input.sk-toggleable__control:checked~div.sk-toggleable__content {max-height: 200px;max-width: 100%;overflow: auto;}#sk-container-id-4 input.sk-toggleable__control:checked~label.sk-toggleable__label-arrow:before {content: \"▾\";}#sk-container-id-4 div.sk-estimator input.sk-toggleable__control:checked~label.sk-toggleable__label {background-color: #d4ebff;}#sk-container-id-4 div.sk-label input.sk-toggleable__control:checked~label.sk-toggleable__label {background-color: #d4ebff;}#sk-container-id-4 input.sk-hidden--visually {border: 0;clip: rect(1px 1px 1px 1px);clip: rect(1px, 1px, 1px, 1px);height: 1px;margin: -1px;overflow: hidden;padding: 0;position: absolute;width: 1px;}#sk-container-id-4 div.sk-estimator {font-family: monospace;background-color: #f0f8ff;border: 1px dotted black;border-radius: 0.25em;box-sizing: border-box;margin-bottom: 0.5em;}#sk-container-id-4 div.sk-estimator:hover {background-color: #d4ebff;}#sk-container-id-4 div.sk-parallel-item::after {content: \"\";width: 100%;border-bottom: 1px solid gray;flex-grow: 1;}#sk-container-id-4 div.sk-label:hover label.sk-toggleable__label {background-color: #d4ebff;}#sk-container-id-4 div.sk-serial::before {content: \"\";position: absolute;border-left: 1px solid gray;box-sizing: border-box;top: 0;bottom: 0;left: 50%;z-index: 0;}#sk-container-id-4 div.sk-serial {display: flex;flex-direction: column;align-items: center;background-color: white;padding-right: 0.2em;padding-left: 0.2em;position: relative;}#sk-container-id-4 div.sk-item {position: relative;z-index: 1;}#sk-container-id-4 div.sk-parallel {display: flex;align-items: stretch;justify-content: center;background-color: white;position: relative;}#sk-container-id-4 div.sk-item::before, #sk-container-id-4 div.sk-parallel-item::before {content: \"\";position: absolute;border-left: 1px solid gray;box-sizing: border-box;top: 0;bottom: 0;left: 50%;z-index: -1;}#sk-container-id-4 div.sk-parallel-item {display: flex;flex-direction: column;z-index: 1;position: relative;background-color: white;}#sk-container-id-4 div.sk-parallel-item:first-child::after {align-self: flex-end;width: 50%;}#sk-container-id-4 div.sk-parallel-item:last-child::after {align-self: flex-start;width: 50%;}#sk-container-id-4 div.sk-parallel-item:only-child::after {width: 0;}#sk-container-id-4 div.sk-dashed-wrapped {border: 1px dashed gray;margin: 0 0.4em 0.5em 0.4em;box-sizing: border-box;padding-bottom: 0.4em;background-color: white;}#sk-container-id-4 div.sk-label label {font-family: monospace;font-weight: bold;display: inline-block;line-height: 1.2em;}#sk-container-id-4 div.sk-label-container {text-align: center;}#sk-container-id-4 div.sk-container {/* jupyter's `normalize.less` sets `[hidden] { display: none; }` but bootstrap.min.css set `[hidden] { display: none !important; }` so we also need the `!important` here to be able to override the default hidden behavior on the sphinx rendered scikit-learn.org. See: https://github.com/scikit-learn/scikit-learn/issues/21755 */display: inline-block !important;position: relative;}#sk-container-id-4 div.sk-text-repr-fallback {display: none;}</style><div id=\"sk-container-id-4\" class=\"sk-top-container\"><div class=\"sk-text-repr-fallback\"><pre>SVC(C=0.1)</pre><b>In a Jupyter environment, please rerun this cell to show the HTML representation or trust the notebook. <br />On GitHub, the HTML representation is unable to render, please try loading this page with nbviewer.org.</b></div><div class=\"sk-container\" hidden><div class=\"sk-item\"><div class=\"sk-estimator sk-toggleable\"><input class=\"sk-toggleable__control sk-hidden--visually\" id=\"sk-estimator-id-4\" type=\"checkbox\" checked><label for=\"sk-estimator-id-4\" class=\"sk-toggleable__label sk-toggleable__label-arrow\">SVC</label><div class=\"sk-toggleable__content\"><pre>SVC(C=0.1)</pre></div></div></div></div></div>"
      ],
      "text/plain": [
       "SVC(C=0.1)"
      ]
     },
     "execution_count": 130,
     "metadata": {},
     "output_type": "execute_result"
    }
   ],
   "source": [
    "svm.fit(X_train, y_train)"
   ]
  },
  {
   "cell_type": "code",
   "execution_count": 131,
   "id": "4708864c-103c-43f6-b840-b6a05a667be4",
   "metadata": {},
   "outputs": [
    {
     "name": "stdout",
     "output_type": "stream",
     "text": [
      "학습 데이터를 이용한 SVM Acc 값 : 73.4%\n",
      "평가 데이터를 이용한 SVM Acc 값 : 73.4%\n"
     ]
    }
   ],
   "source": [
    "# 예측 수행\n",
    "y_train_pred_svm = svm.predict(X_train)\n",
    "y_test_pred_svm = svm.predict(X_test)\n",
    "\n",
    "# 평가 지표 계산: 정확도 (맞은수/전체)\n",
    "acc_train = accuracy_score(y_train, y_train_pred_svm)\n",
    "acc_test = accuracy_score(y_test, y_test_pred_svm)\n",
    "\n",
    "print(f'학습 데이터를 이용한 SVM Acc 값 : {acc_train*100:.1f}%')\n",
    "print(f'평가 데이터를 이용한 SVM Acc 값 : {acc_test*100:.1f}%')"
   ]
  },
  {
   "cell_type": "code",
   "execution_count": 132,
   "id": "cb7b3188-caa9-4d30-8a00-cbc2368d770e",
   "metadata": {},
   "outputs": [
    {
     "data": {
      "image/png": "[encoded data removed]",
      "text/plain": [
       "<Figure size 640x480 with 2 Axes>"
      ]
     },
     "metadata": {},
     "output_type": "display_data"
    }
   ],
   "source": [
    "# confusion matrix을 활용한 평가 결과 확인\n",
    "cm_test_svm = confusion_matrix(y_test, y_test_pred_svm)\n",
    "\n",
    "plt.imshow(cm_test_svm, interpolation='nearest', cmap='Blues')\n",
    "plt.title(\"SVM Confusion Matrix (Test)\")\n",
    "plt.colorbar()\n",
    "tick_marks = np.arange(len(np.unique(y_test)))\n",
    "plt.xticks(tick_marks, np.unique(y_test))\n",
    "plt.yticks(tick_marks, np.unique(y_test))\n",
    "plt.xlabel(\"Predicted Label\")\n",
    "plt.ylabel(\"True Label\")\n",
    "\n",
    "# 각 셀에 숫자 표시\n",
    "for i in range(cm_test_svm.shape[0]):\n",
    "    for j in range(cm_test_svm.shape[1]):\n",
    "        plt.text(j, i, cm_test_svm[i, j], ha=\"center\", va=\"center\", color=\"black\")"
   ]
  },
  {
   "cell_type": "code",
   "execution_count": 133,
   "id": "691af9c5-b045-4fe1-baed-d9134e1c9949",
   "metadata": {},
   "outputs": [
    {
     "name": "stdout",
     "output_type": "stream",
     "text": [
      "SVM의 P,R,F1 : 0.00 / 0.00 / 0.00\n"
     ]
    }
   ],
   "source": [
    "# 정밀도, 재현율, F1 값 비교\n",
    "from sklearn.metrics import precision_score, recall_score, f1_score\n",
    "\n",
    "svm_precision = precision_score(y_test, y_test_pred_svm)\n",
    "svm_recall = recall_score(y_test, y_test_pred_svm)\n",
    "svm_f1 = f1_score(y_test, y_test_pred_svm)\n",
    "print(f'SVM의 P,R,F1 : {svm_precision:.2f} / {svm_recall:.2f} / {svm_f1:.2f}')"
   ]
  },
  {
   "cell_type": "markdown",
   "id": "2bc1acac-088a-4fa3-8508-66bc22da9dc8",
   "metadata": {},
   "source": [
    "#### 최적의 파라미터 찾기"
   ]
  },
  {
   "cell_type": "code",
   "execution_count": null,
   "id": "d1fc5a84-0b54-4dbb-bfd8-70d0d4ec258f",
   "metadata": {
    "editable": true,
    "slideshow": {
     "slide_type": ""
    },
    "tags": []
   },
   "outputs": [],
   "source": [
    "# 실행시간이 오래 걸리는지 계속 해도 안되길래 나중에 구글 코랩에서 GPU로 돌려보기\n",
    "# from sklearn.model_selection import GridSearchCV\n",
    "\n",
    "# param_grid = {\n",
    "#     'C': [0.1, 1, 10],\n",
    "#     'kernel': ['linear', 'rbf']\n",
    "# }\n",
    "\n",
    "# grid_search = GridSearchCV(SVC(), param_grid, cv=5)\n",
    "# grid_search.fit(X_train, y_train)\n",
    "# print(\"Best parameters:\", grid_search.best_params_)\n",
    "# print(\"Best cross-validation score: {:.2f}\".format(grid_search.best_score_))"
   ]
  },
  {
   "cell_type": "markdown",
   "id": "96d4829f-8405-4c69-b20f-e524af1c5a13",
   "metadata": {
    "jp-MarkdownHeadingCollapsed": true
   },
   "source": [
    "### Decision Tree 사용"
   ]
  },
  {
   "cell_type": "markdown",
   "id": "d8d626ba-48fc-4182-8bae-75930df40c4b",
   "metadata": {},
   "source": [
    "#### 하이퍼 파라미터 적용해보기\n",
    "- criterion\n",
    "- max_depth\n",
    "- min_samples_split"
   ]
  },
  {
   "cell_type": "code",
   "execution_count": null,
   "id": "2d97a0b0-1278-464b-aa98-6fec4f4bac14",
   "metadata": {},
   "outputs": [],
   "source": [
    "from sklearn.tree import DecisionTreeClassifier\n",
    "\n",
    "dt = DecisionTreeClassifier(criterion='log_loss',\n",
    "                            max_depth=5,\n",
    "                            min_samples_split=10)"
   ]
  },
  {
   "cell_type": "code",
   "execution_count": null,
   "id": "efb1f104-0f6b-4f2a-b3a6-0a7496a0b876",
   "metadata": {},
   "outputs": [],
   "source": [
    "dt.fit(X_train, y_train)"
   ]
  },
  {
   "cell_type": "code",
   "execution_count": null,
   "id": "c45eafb1-a8c7-4544-82c6-9a67ad1b95c2",
   "metadata": {},
   "outputs": [],
   "source": [
    "# 예측 수행\n",
    "y_train_pred_dt = dt.predict(X_train)\n",
    "y_test_pred_dt = dt.predict(X_test)\n",
    "\n",
    "# 평가 지표 계산: 정확도 (맞은수/전체)\n",
    "acc_train = accuracy_score(y_train, y_train_pred_dt)\n",
    "acc_test = accuracy_score(y_test, y_test_pred_dt)\n",
    "\n",
    "print(f'학습 데이터를 이용한 DT Acc 값 : {acc_train*100:.1f}%')\n",
    "print(f'평가 데이터를 이용한 DT Acc 값 : {acc_test*100:.1f}%')"
   ]
  },
  {
   "cell_type": "code",
   "execution_count": null,
   "id": "f8ae93ae-bd2a-4db3-abe4-9fa395f96ec6",
   "metadata": {},
   "outputs": [],
   "source": [
    "# confusion matrix을 활용한 평가 결과 확인\n",
    "cm_test_dt = confusion_matrix(y_test, y_test_pred_dt)\n",
    "\n",
    "plt.imshow(cm_test_dt, interpolation='nearest', cmap='Blues')\n",
    "plt.title(\"Decision Tree Confusion Matrix (Test)\")\n",
    "plt.colorbar()\n",
    "tick_marks = np.arange(len(np.unique(y_test)))\n",
    "plt.xticks(tick_marks, np.unique(y_test))\n",
    "plt.yticks(tick_marks, np.unique(y_test))\n",
    "plt.xlabel(\"Predicted Label\")\n",
    "plt.ylabel(\"True Label\")\n",
    "\n",
    "# 각 셀에 숫자 표시\n",
    "for i in range(cm_test_dt.shape[0]):\n",
    "    for j in range(cm_test_dt.shape[1]):\n",
    "        plt.text(j, i, cm_test_dt[i, j], ha=\"center\", va=\"center\", color=\"black\")"
   ]
  },
  {
   "cell_type": "code",
   "execution_count": null,
   "id": "e319e811-ba41-44cf-879b-3fee513d8e0a",
   "metadata": {},
   "outputs": [],
   "source": [
    "# 정밀도, 재현율, F1 값 비교\n",
    "from sklearn.metrics import precision_score, recall_score, f1_score\n",
    "\n",
    "dt_precision = precision_score(y_test, y_test_pred_dt)\n",
    "dt_recall = recall_score(y_test, y_test_pred_dt)\n",
    "dt_f1 = f1_score(y_test, y_test_pred_dt)\n",
    "print(f'DT의 P,R,F1 : {dt_precision:.2f} / {dt_recall:.2f} / {dt_f1:.2f}')"
   ]
  },
  {
   "cell_type": "markdown",
   "id": "d43081cd-5ab9-4ed8-b38e-4dabb47d2655",
   "metadata": {
    "jp-MarkdownHeadingCollapsed": true
   },
   "source": [
    "### 랜덤 포레스트 사용"
   ]
  },
  {
   "cell_type": "markdown",
   "id": "e1444e4a-f0a7-455e-8296-51f9f5be4d9c",
   "metadata": {},
   "source": [
    "#### 하이퍼 파라미터\n",
    "- n_estimators"
   ]
  },
  {
   "cell_type": "code",
   "execution_count": null,
   "id": "773e23a6-78a3-4b60-86db-a06f6897f092",
   "metadata": {},
   "outputs": [],
   "source": [
    "from sklearn.ensemble import RandomForestClassifier\n",
    "from sklearn.metrics import accuracy_score, classification_report\n",
    "\n",
    "rf = RandomForestClassifier(n_estimators=1000, random_state=42)\n",
    "rf.fit(X_train, y_train)"
   ]
  },
  {
   "cell_type": "code",
   "execution_count": null,
   "id": "6ae1cf1e-0aa4-44af-b580-1afc2511090a",
   "metadata": {},
   "outputs": [],
   "source": [
    "# 예측 수행\n",
    "y_train_pred_rf = rf.predict(X_train)\n",
    "y_test_pred_rf = rf.predict(X_test)\n",
    "\n",
    "# 평가 지표 계산: 정확도 (맞은수/전체)\n",
    "acc_train = accuracy_score(y_train, y_train_pred_rf)\n",
    "acc_test = accuracy_score(y_test, y_test_pred_rf)\n",
    "\n",
    "print(f'학습 데이터를 이용한 RF Acc 값 : {acc_train*100:.1f}%')\n",
    "print(f'평가 데이터를 이용한 RF Acc 값 : {acc_test*100:.1f}%')"
   ]
  },
  {
   "cell_type": "code",
   "execution_count": null,
   "id": "7aceea77-6471-4ab5-b7ea-90aca0a1d3e9",
   "metadata": {},
   "outputs": [],
   "source": [
    "# confusion matrix을 활용한 평가 결과 확인\n",
    "cm_test_rf = confusion_matrix(y_test, y_test_pred_rf)\n",
    "\n",
    "plt.imshow(cm_test_rf, interpolation='nearest', cmap='Blues')\n",
    "plt.title(\"Decision Tree Confusion Matrix (Test)\")\n",
    "plt.colorbar()\n",
    "tick_marks = np.arange(len(np.unique(y_test)))\n",
    "plt.xticks(tick_marks, np.unique(y_test))\n",
    "plt.yticks(tick_marks, np.unique(y_test))\n",
    "plt.xlabel(\"Predicted Label\")\n",
    "plt.ylabel(\"True Label\")\n",
    "\n",
    "# 각 셀에 숫자 표시\n",
    "for i in range(cm_test_rf.shape[0]):\n",
    "    for j in range(cm_test_rf.shape[1]):\n",
    "        plt.text(j, i, cm_test_rf[i, j], ha=\"center\", va=\"center\", color=\"black\")"
   ]
  },
  {
   "cell_type": "markdown",
   "id": "05572c03-0981-4b6e-a575-9c8a7ee200fc",
   "metadata": {},
   "source": [
    "## 2번 방식으로 진행 - 라벨인코딩"
   ]
  },
  {
   "cell_type": "code",
   "execution_count": null,
   "id": "17770326-58a3-42d4-8f81-1e74b193d5f5",
   "metadata": {
    "editable": true,
    "slideshow": {
     "slide_type": ""
    },
    "tags": []
   },
   "outputs": [],
   "source": [
    "from sklearn.preprocessing import LabelEncoder\n",
    "\n",
    "encoder = LabelEncoder()\n",
    "label_encoded = encoder.fit_transform(time_df)\n",
    "time_df_label_encoded = pd.DataFrame(label_encoded, columns=['Contract'])\n",
    "time_df_label_encoded = time_df_label_encoded.astype('int64')"
   ]
  },
  {
   "cell_type": "markdown",
   "id": "33c4ee00-2ccd-4262-b4f7-8746faf3066c",
   "metadata": {},
   "source": [
    "### 분류모델 적용하기"
   ]
  },
  {
   "cell_type": "code",
   "execution_count": null,
   "id": "0bd82861-ad0e-474c-b0e4-19f8f1b6b0da",
   "metadata": {},
   "outputs": [],
   "source": [
    "# 데이터 분할 -> 나중에 적용할 때 팀이 같은 데이터 분할이 적용되도록 해야하나 생각(물어보기)\n",
    "from sklearn.model_selection import train_test_split\n",
    "\n",
    "X = pd.concat([numeric_y, time_df_label_encoded, multi_class_category_df_encoded, binary_class_category_df], axis=1)\n",
    "X.drop('Churn', axis=1, inplace=True)\n",
    "y = y_column\n",
    "X_train, X_test, y_train, y_test = train_test_split(X, y, test_size=0.2, random_state=42)"
   ]
  },
  {
   "cell_type": "markdown",
   "id": "5f5ad9fe-49f0-4c9e-9c39-428ac3f14256",
   "metadata": {},
   "source": [
    "### 로지스틱 회귀 모델 사용"
   ]
  },
  {
   "cell_type": "markdown",
   "id": "2cbd38b0-3d32-4284-93de-baaeae8f37f0",
   "metadata": {},
   "source": [
    "#### 하이퍼 파라미터\n",
    "- penalty\n",
    "- C"
   ]
  },
  {
   "cell_type": "code",
   "execution_count": null,
   "id": "d3bf7b58-0351-41ef-9169-c096a9072db8",
   "metadata": {},
   "outputs": [],
   "source": [
    "from sklearn.linear_model import LogisticRegression\n",
    "\n",
    "logistic_reg = LogisticRegression()\n",
    "logistic_reg.fit(X_train, y_train)\n",
    "\n",
    "# 학습된 모델의 계수(coefficients) 및 절편(intercept) 출력\n",
    "coefficients = logistic_reg.coef_\n",
    "intercept = logistic_reg.intercept_\n",
    "\n",
    "print('#'*20, '학습된 파라미터 값', '#'*20)\n",
    "print(coefficients)\n",
    "\n",
    "print('#'*20, '학습된 절편 값', '#'*20)\n",
    "print(intercept)"
   ]
  },
  {
   "cell_type": "markdown",
   "id": "3cc409f2-af26-4d54-8544-cdd419bf0b56",
   "metadata": {},
   "source": [
    "#### 학습 평가 - Confusion matrix"
   ]
  },
  {
   "cell_type": "code",
   "execution_count": 206,
   "id": "73c0758a-f21e-4308-9890-7109449274be",
   "metadata": {},
   "outputs": [
    {
     "name": "stdout",
     "output_type": "stream",
     "text": [
      "학습 데이터를 이용한 Acc 값 : 80.5%\n",
      "평가 데이터를 이용한 Acc 값 : 78.7%\n"
     ]
    }
   ],
   "source": [
    "from sklearn.metrics import accuracy_score\n",
    "\n",
    "y_train_pred = logistic_reg.predict(X_train)\n",
    "y_test_pred = logistic_reg.predict(X_test)\n",
    "\n",
    "acc_train = accuracy_score(y_train, y_train_pred)\n",
    "acc_test = accuracy_score(y_test, y_test_pred)\n",
    "\n",
    "print(f'학습 데이터를 이용한 Acc 값 : {acc_train*100:.1f}%')\n",
    "print(f'평가 데이터를 이용한 Acc 값 : {acc_test*100:.1f}%')"
   ]
  },
  {
   "cell_type": "markdown",
   "id": "41945fc4-33a9-4caf-8715-9adb748f4dbd",
   "metadata": {},
   "source": [
    "#### 학습 데이터를 활용한 confusion matrix"
   ]
  },
  {
   "cell_type": "code",
   "execution_count": 205,
   "id": "130a8a0a-003e-4f86-8647-abda6836c0d9",
   "metadata": {},
   "outputs": [
    {
     "data": {
      "image/png": "[encoded data removed]",
      "text/plain": [
       "<Figure size 640x480 with 2 Axes>"
      ]
     },
     "metadata": {},
     "output_type": "display_data"
    }
   ],
   "source": [
    "from sklearn.metrics import confusion_matrix\n",
    "\n",
    "cm_train = confusion_matrix(y_train, y_train_pred)\n",
    "cm_test = confusion_matrix(y_test, y_test_pred)\n",
    "\n",
    "plt.imshow(cm_train, interpolation='nearest', cmap='Blues')\n",
    "plt.title(\"Confusion Matrix (Train)\")\n",
    "plt.colorbar()\n",
    "tick_marks = np.arange(len(np.unique(y_train)))\n",
    "plt.xticks(tick_marks, np.unique(y_train))\n",
    "plt.yticks(tick_marks, np.unique(y_train))\n",
    "plt.xlabel(\"Predicted Label\")\n",
    "plt.ylabel(\"True Label\")\n",
    "\n",
    "# 각 셀에 숫자 표시\n",
    "for i in range(cm_train.shape[0]):\n",
    "    for j in range(cm_train.shape[1]):\n",
    "        plt.text(j, i, cm_train[i, j], ha=\"center\", va=\"center\", color=\"black\")"
   ]
  },
  {
   "cell_type": "markdown",
   "id": "dbc32b30-3ea1-4e1a-849d-b2fd8460dfc2",
   "metadata": {},
   "source": [
    "#### 평가 데이터를 활용한 confusion matrix"
   ]
  },
  {
   "cell_type": "code",
   "execution_count": 207,
   "id": "55f272a4-817e-4755-9e87-1fdb3964a204",
   "metadata": {},
   "outputs": [
    {
     "data": {
      "image/png": "[encoded data removed]",
      "text/plain": [
       "<Figure size 640x480 with 2 Axes>"
      ]
     },
     "metadata": {},
     "output_type": "display_data"
    }
   ],
   "source": [
    "plt.imshow(cm_test, interpolation='nearest', cmap='Blues')\n",
    "plt.title(\"Confusion Matrix (Test)\")\n",
    "plt.colorbar()\n",
    "tick_marks = np.arange(len(np.unique(y_test)))\n",
    "plt.xticks(tick_marks, np.unique(y_test))\n",
    "plt.yticks(tick_marks, np.unique(y_test))\n",
    "plt.xlabel(\"Predicted Label\")\n",
    "plt.ylabel(\"True Label\")\n",
    "\n",
    "# 각 셀에 숫자 표시\n",
    "for i in range(cm_test.shape[0]):\n",
    "    for j in range(cm_test.shape[1]):\n",
    "        plt.text(j, i, cm_test[i, j], ha=\"center\", va=\"center\", color=\"black\")"
   ]
  },
  {
   "cell_type": "code",
   "execution_count": null,
   "id": "ae7bc162-9568-4277-af97-eedfcc478ff7",
   "metadata": {},
   "outputs": [],
   "source": [
    "coeff_df = pd.DataFrame({'feature': X_train.columns, 'coefficient': logistic_reg.coef_.flatten()})\n",
    "\n",
    "# 계수의 절대값을 기준으로 내림차순 정렬\n",
    "coeff_df['abs_coefficient'] = coeff_df['coefficient'].abs()\n",
    "coeff_df_sorted = coeff_df.sort_values(by='abs_coefficient', ascending=False)\n",
    "\n",
    "# 변수의 영향력을 확인\n",
    "coeff_df_sorted"
   ]
  },
  {
   "cell_type": "code",
   "execution_count": null,
   "id": "2ba9a02c-bc4c-48df-b902-7d68a30e5e3d",
   "metadata": {},
   "outputs": [],
   "source": [
    "# 변수 영향력 시각화\n",
    "plt.figure(figsize=(10, 6))\n",
    "plt.barh(X_train.columns, logistic_reg.coef_.flatten())\n",
    "plt.xlabel('Coefficient')\n",
    "plt.ylabel('Features')\n",
    "plt.title('Features Importance')\n",
    "plt.show()"
   ]
  },
  {
   "cell_type": "code",
   "execution_count": null,
   "id": "6ac4b10e-ec53-4151-b862-13f7a799ebe2",
   "metadata": {},
   "outputs": [],
   "source": [
    "# 정밀도, 재현율, F1 값 비교\n",
    "from sklearn.metrics import precision_score, recall_score, f1_score\n",
    "\n",
    "precision_train = precision_score(y_train, y_train_pred)\n",
    "recall_train = recall_score(y_train, y_train_pred)\n",
    "f1_train = f1_score(y_train, y_train_pred)\n",
    "print(f'Logistic Regression train의 P,R,F1 : {precision_train:.2f} / {recall_train:.2f} / {f1_train:.2f}')\n",
    "\n",
    "precision_test = precision_score(y_test, y_test_pred)\n",
    "recall_test = recall_score(y_test, y_test_pred)\n",
    "f1_test = f1_score(y_test, y_test_pred)\n",
    "print(f'Logistic Regression test의 P,R,F1 : {precision_test:.2f} / {recall_test:.2f} / {f1_test:.2f}')"
   ]
  },
  {
   "cell_type": "markdown",
   "id": "0004d517-9208-4b09-b188-1a870bd2ebaa",
   "metadata": {
    "jp-MarkdownHeadingCollapsed": true
   },
   "source": [
    "### 소프트벡터머신 돌리기"
   ]
  },
  {
   "cell_type": "markdown",
   "id": "1277196b-31d6-4144-82c6-86dba7b883ba",
   "metadata": {},
   "source": [
    "#### 하이퍼 파라미터 변경해보기\n",
    "- kernel\n",
    "- C"
   ]
  },
  {
   "cell_type": "code",
   "execution_count": null,
   "id": "8ae2a2a6-2bb2-4055-94ea-31db0b63669f",
   "metadata": {},
   "outputs": [],
   "source": [
    "from sklearn.svm import SVC\n",
    "\n",
    "svm = SVC(kernel='rbf', C=0.1)"
   ]
  },
  {
   "cell_type": "code",
   "execution_count": null,
   "id": "6bb03985-d3f9-4eba-9f9c-3daa9da70fcf",
   "metadata": {},
   "outputs": [],
   "source": [
    "svm.fit(X_train, y_train)"
   ]
  },
  {
   "cell_type": "code",
   "execution_count": null,
   "id": "80c6f1ce-653b-481c-8751-a7f97da1417a",
   "metadata": {},
   "outputs": [],
   "source": [
    "# 예측 수행\n",
    "y_train_pred_svm = svm.predict(X_train)\n",
    "y_test_pred_svm = svm.predict(X_test)\n",
    "\n",
    "# 평가 지표 계산: 정확도 (맞은수/전체)\n",
    "acc_train = accuracy_score(y_train, y_train_pred_svm)\n",
    "acc_test = accuracy_score(y_test, y_test_pred_svm)\n",
    "\n",
    "print(f'학습 데이터를 이용한 SVM Acc 값 : {acc_train*100:.1f}%')\n",
    "print(f'평가 데이터를 이용한 SVM Acc 값 : {acc_test*100:.1f}%')"
   ]
  },
  {
   "cell_type": "code",
   "execution_count": null,
   "id": "14e29bb9-9505-4189-b596-8eef9777d4f5",
   "metadata": {},
   "outputs": [],
   "source": [
    "# confusion matrix을 활용한 평가 결과 확인\n",
    "cm_test_svm = confusion_matrix(y_test, y_test_pred_svm)\n",
    "\n",
    "plt.imshow(cm_test_svm, interpolation='nearest', cmap='Blues')\n",
    "plt.title(\"SVM Confusion Matrix (Test)\")\n",
    "plt.colorbar()\n",
    "tick_marks = np.arange(len(np.unique(y_test)))\n",
    "plt.xticks(tick_marks, np.unique(y_test))\n",
    "plt.yticks(tick_marks, np.unique(y_test))\n",
    "plt.xlabel(\"Predicted Label\")\n",
    "plt.ylabel(\"True Label\")\n",
    "\n",
    "# 각 셀에 숫자 표시\n",
    "for i in range(cm_test_svm.shape[0]):\n",
    "    for j in range(cm_test_svm.shape[1]):\n",
    "        plt.text(j, i, cm_test_svm[i, j], ha=\"center\", va=\"center\", color=\"black\")"
   ]
  },
  {
   "cell_type": "code",
   "execution_count": null,
   "id": "20e5aff6-04a3-4825-9186-a393a827e50e",
   "metadata": {},
   "outputs": [],
   "source": [
    "# 정밀도, 재현율, F1 값 비교\n",
    "from sklearn.metrics import precision_score, recall_score, f1_score\n",
    "\n",
    "svm_precision_train = precision_score(y_train, y_train_pred_svm)\n",
    "svm_recall_train = recall_score(y_train, y_train_pred_svm)\n",
    "svm_f1_train = f1_score(y_train, y_train_pred_svm)\n",
    "print(f'SVM_train의 P,R,F1 : {svm_precision_train:.2f} / {svm_recall_train:.2f} / {svm_f1_train:.2f}')\n",
    "\n",
    "svm_precision_test = precision_score(y_test, y_test_pred_svm)\n",
    "svm_recall_test = recall_score(y_test, y_test_pred_svm)\n",
    "svm_f1_test = f1_score(y_test, y_test_pred_svm)\n",
    "print(f'SVM_test의 P,R,F1 : {svm_precision_test:.2f} / {svm_recall_test:.2f} / {svm_f1_test:.2f}')"
   ]
  },
  {
   "cell_type": "markdown",
   "id": "f7ea180c-55e9-4df0-a91f-e8d90a7185e3",
   "metadata": {
    "jp-MarkdownHeadingCollapsed": true
   },
   "source": [
    "### Decision Tree 사용"
   ]
  },
  {
   "cell_type": "markdown",
   "id": "49d7421a-9c71-4e59-97a9-2b72b53db022",
   "metadata": {},
   "source": [
    "#### 하이퍼 파라미터 적용해보기\n",
    "- criterion\n",
    "- max_depth\n",
    "- min_samples_split"
   ]
  },
  {
   "cell_type": "code",
   "execution_count": null,
   "id": "84a2a9de-6b04-4b2d-ba79-f883033c82f6",
   "metadata": {},
   "outputs": [],
   "source": [
    "from sklearn.tree import DecisionTreeClassifier\n",
    "\n",
    "dt = DecisionTreeClassifier(criterion='gini',\n",
    "                            max_depth=5,\n",
    "                            min_samples_split=10)"
   ]
  },
  {
   "cell_type": "code",
   "execution_count": null,
   "id": "d2c97900-cac9-4a09-a797-a54b1106b789",
   "metadata": {},
   "outputs": [],
   "source": [
    "dt.fit(X_train, y_train)"
   ]
  },
  {
   "cell_type": "code",
   "execution_count": null,
   "id": "a2a66f54-b89f-49e1-b3bb-693b74d380ad",
   "metadata": {},
   "outputs": [],
   "source": [
    "# 예측 수행\n",
    "y_train_pred_dt = dt.predict(X_train)\n",
    "y_test_pred_dt = dt.predict(X_test)\n",
    "\n",
    "# 평가 지표 계산: 정확도 (맞은수/전체)\n",
    "acc_train = accuracy_score(y_train, y_train_pred_dt)\n",
    "acc_test = accuracy_score(y_test, y_test_pred_dt)\n",
    "\n",
    "print(f'학습 데이터를 이용한 DT Acc 값 : {acc_train*100:.1f}%')\n",
    "print(f'평가 데이터를 이용한 DT Acc 값 : {acc_test*100:.1f}%')"
   ]
  },
  {
   "cell_type": "code",
   "execution_count": null,
   "id": "d83c371f-528f-44e8-9505-9e88d94a0763",
   "metadata": {},
   "outputs": [],
   "source": [
    "X_train.columns"
   ]
  },
  {
   "cell_type": "code",
   "execution_count": null,
   "id": "a956cd42-bfff-4391-8785-74a6072d74ea",
   "metadata": {},
   "outputs": [],
   "source": [
    "importances = dt.feature_importances_\n",
    "\n",
    "# 중요도를 출력합니다\n",
    "for i, importance in enumerate(importances):\n",
    "    print(f\"Feature {i}: Importance = {importance}\")"
   ]
  },
  {
   "cell_type": "code",
   "execution_count": null,
   "id": "50729cb8-65d5-4047-92b9-3db415310ce7",
   "metadata": {},
   "outputs": [],
   "source": [
    "# confusion matrix을 활용한 평가 결과 확인\n",
    "cm_test_dt = confusion_matrix(y_test, y_test_pred_dt)\n",
    "\n",
    "plt.imshow(cm_test_dt, interpolation='nearest', cmap='Blues')\n",
    "plt.title(\"Decision Tree Confusion Matrix (Test)\")\n",
    "plt.colorbar()\n",
    "tick_marks = np.arange(len(np.unique(y_test)))\n",
    "plt.xticks(tick_marks, np.unique(y_test))\n",
    "plt.yticks(tick_marks, np.unique(y_test))\n",
    "plt.xlabel(\"Predicted Label\")\n",
    "plt.ylabel(\"True Label\")\n",
    "\n",
    "# 각 셀에 숫자 표시\n",
    "for i in range(cm_test_dt.shape[0]):\n",
    "    for j in range(cm_test_dt.shape[1]):\n",
    "        plt.text(j, i, cm_test_dt[i, j], ha=\"center\", va=\"center\", color=\"black\")"
   ]
  },
  {
   "cell_type": "code",
   "execution_count": null,
   "id": "7bc75da9-fa96-4a6e-a46f-4e6c99b52ba2",
   "metadata": {},
   "outputs": [],
   "source": [
    "# 정밀도, 재현율, F1 값 비교\n",
    "from sklearn.metrics import precision_score, recall_score, f1_score\n",
    "\n",
    "dt_precision_train = precision_score(y_train, y_train_pred_dt)\n",
    "dt_recall_train = recall_score(y_train, y_train_pred_dt)\n",
    "dt_f1_train = f1_score(y_train, y_train_pred_dt)\n",
    "print(f'DT_train의 P,R,F1 : {dt_precision_train:.2f} / {dt_recall_train:.2f} / {dt_f1_train:.2f}')\n",
    "\n",
    "dt_precision_test = precision_score(y_test, y_test_pred_dt)\n",
    "dt_recall_test = recall_score(y_test, y_test_pred_dt)\n",
    "dt_f1_test = f1_score(y_test, y_test_pred_dt)\n",
    "print(f'DT_test의 P,R,F1 : {dt_precision_test:.2f} / {dt_recall_test:.2f} / {dt_f1_test:.2f}')"
   ]
  },
  {
   "cell_type": "code",
   "execution_count": null,
   "id": "41f7ff5b-d5da-46cc-be72-7c8bc6dc0dbd",
   "metadata": {},
   "outputs": [],
   "source": [
    "from sklearn.metrics import roc_auc_score\n",
    "\n",
    "# 클래스 확률을 예측합니다\n",
    "y_prob = dt.predict_proba(X_test)[:, 1] # 클래스 1의 확률을 사용합니다\n",
    "\n",
    "# AUC를 계산합니다\n",
    "auc = roc_auc_score(y_test, y_prob)\n",
    "print(\"AUC:\", auc)"
   ]
  },
  {
   "cell_type": "markdown",
   "id": "914bf939-9142-4fd9-8442-93d6c58a1da8",
   "metadata": {
    "jp-MarkdownHeadingCollapsed": true
   },
   "source": [
    "### 랜덤 포레스트 사용"
   ]
  },
  {
   "cell_type": "markdown",
   "id": "a83be436-0a27-4141-802c-1567afa0faa4",
   "metadata": {},
   "source": [
    "#### 하이퍼 파라미터\n",
    "- n_estimators\n",
    "- max_depth\n",
    "- min_samples_split\n",
    "- min_samples_leaf\n",
    "- max_features\n",
    "- bootstrap\n",
    "- random_state\n",
    "- class_weight"
   ]
  },
  {
   "cell_type": "code",
   "execution_count": null,
   "id": "1e8dbede-72ab-4a51-abd0-b6b7ad2ce97e",
   "metadata": {},
   "outputs": [],
   "source": [
    "from sklearn.ensemble import RandomForestClassifier\n",
    "from sklearn.metrics import accuracy_score, classification_report\n",
    "\n",
    "rf = RandomForestClassifier(n_estimators=1000, random_state=42)\n",
    "rf.fit(X_train, y_train)"
   ]
  },
  {
   "cell_type": "code",
   "execution_count": null,
   "id": "9ffbd2a3-8a5f-4398-9387-04b23ebbf375",
   "metadata": {},
   "outputs": [],
   "source": [
    "# 예측 수행\n",
    "y_train_pred_rf = rf.predict(X_train)\n",
    "y_test_pred_rf = rf.predict(X_test)\n",
    "\n",
    "# 평가 지표 계산: 정확도 (맞은수/전체)\n",
    "acc_train = accuracy_score(y_train, y_train_pred_rf)\n",
    "acc_test = accuracy_score(y_test, y_test_pred_rf)\n",
    "\n",
    "print(f'학습 데이터를 이용한 RF Acc 값 : {acc_train*100:.1f}%')\n",
    "print(f'평가 데이터를 이용한 RF Acc 값 : {acc_test*100:.1f}%')"
   ]
  },
  {
   "cell_type": "code",
   "execution_count": null,
   "id": "9b8372df-9694-4e7e-abc8-c52a8b703d23",
   "metadata": {},
   "outputs": [],
   "source": [
    "# confusion matrix을 활용한 평가 결과 확인\n",
    "cm_test_rf = confusion_matrix(y_test, y_test_pred_rf)\n",
    "\n",
    "plt.imshow(cm_test_rf, interpolation='nearest', cmap='Blues')\n",
    "plt.title(\"Decision Tree Confusion Matrix (Test)\")\n",
    "plt.colorbar()\n",
    "tick_marks = np.arange(len(np.unique(y_test)))\n",
    "plt.xticks(tick_marks, np.unique(y_test))\n",
    "plt.yticks(tick_marks, np.unique(y_test))\n",
    "plt.xlabel(\"Predicted Label\")\n",
    "plt.ylabel(\"True Label\")\n",
    "\n",
    "# 각 셀에 숫자 표시\n",
    "for i in range(cm_test_rf.shape[0]):\n",
    "    for j in range(cm_test_rf.shape[1]):\n",
    "        plt.text(j, i, cm_test_rf[i, j], ha=\"center\", va=\"center\", color=\"black\")"
   ]
  },
  {
   "cell_type": "code",
   "execution_count": null,
   "id": "33422130-7e71-42cf-a402-2746b12ce92f",
   "metadata": {},
   "outputs": [],
   "source": [
    "# 정밀도, 재현율, F1 값 비교\n",
    "from sklearn.metrics import precision_score, recall_score, f1_score\n",
    "\n",
    "rf_precision_train = precision_score(y_train, y_train_pred_rf)\n",
    "rf_recall_train = recall_score(y_train, y_train_pred_rf)\n",
    "rf_f1_train = f1_score(y_train, y_train_pred_rf)\n",
    "print(f'RF_train의 P,R,F1 : {rf_precision_train:.2f} / {rf_recall_train:.2f} / {rf_f1_train:.2f}')\n",
    "\n",
    "rf_precision_test = precision_score(y_test, y_test_pred_rf)\n",
    "rf_recall_test = recall_score(y_test, y_test_pred_rf)\n",
    "rf_f1_test = f1_score(y_test, y_test_pred_rf)\n",
    "print(f'RF_test의 P,R,F1 : {dt_precision_test:.2f} / {dt_recall_test:.2f} / {dt_f1_test:.2f}')"
   ]
  },
  {
   "cell_type": "markdown",
   "id": "d6fda01f-77d7-47cf-a155-963a4f66ee32",
   "metadata": {},
   "source": [
    "### train, test 데이터 불균형 확인"
   ]
  },
  {
   "cell_type": "code",
   "execution_count": null,
   "id": "b7e622da-463d-4c3f-95de-bde3a983c483",
   "metadata": {},
   "outputs": [],
   "source": [
    "plt.hist(y_train, bins=3)"
   ]
  },
  {
   "cell_type": "code",
   "execution_count": null,
   "id": "6d4b1881-1bc8-46a9-8720-2522d80a5b7b",
   "metadata": {},
   "outputs": [],
   "source": [
    "plt.hist(y_test, bins=3)"
   ]
  },
  {
   "cell_type": "code",
   "execution_count": null,
   "id": "0d2fc414-56b4-4555-bcdb-cf21c1552878",
   "metadata": {},
   "outputs": [],
   "source": [
    "y_train.value_counts()[0] / len(y_train)"
   ]
  },
  {
   "cell_type": "code",
   "execution_count": null,
   "id": "6c6b001f-2f25-414f-8f9c-f085e789cf03",
   "metadata": {},
   "outputs": [],
   "source": [
    "y_train.value_counts()[1] / len(y_train)"
   ]
  },
  {
   "cell_type": "code",
   "execution_count": null,
   "id": "847af167-54b8-416e-8509-73fea5f6e683",
   "metadata": {},
   "outputs": [],
   "source": [
    "y_test.value_counts()[0] / len(y_test)"
   ]
  },
  {
   "cell_type": "markdown",
   "id": "6308af48-6583-4e8f-858a-02b30351a50e",
   "metadata": {},
   "source": [
    "#### 데이터에 대한 오버샘플링"
   ]
  },
  {
   "cell_type": "code",
   "execution_count": 198,
   "id": "757de824-2134-4c7c-baa1-3e000b45045b",
   "metadata": {},
   "outputs": [],
   "source": [
    "from sklearn.utils import resample\n",
    "\n",
    "# 독립변수, 종속변수 지정 (X 부분은 각자가 한 부분으로 변형해서 사용하면 됩니다)\n",
    "X = pd.concat([numeric_y, time_df_label_encoded, multi_class_category_df_encoded, binary_class_category_df], axis=1)\n",
    "X.drop('Churn', axis=1, inplace=True)\n",
    "y = y_column\n",
    "\n",
    "# 1의 값을 가지는 샘플들과 0의 값을 가지는 샘플들로 분리\n",
    "X_minority = X[y == 1]\n",
    "X_majority = X[y == 0]\n",
    "y_minority = y[y == 1]\n",
    "y_majority = y[y == 0]\n",
    "\n",
    "# 소수 클래스(1)에 해당하는 샘플들을 복원 추출하여 다수 클래스(0)의 샘플 수와 동일하게 오버샘플링\n",
    "X_resampled, y_resampled = resample(X_minority,\n",
    "                                    y_minority,\n",
    "                                    replace=True,\n",
    "                                    n_samples=X_majority.shape[0],  # 다수 클래스 샘플 수와 동일하게 오버샘플링\n",
    "                                    random_state=42)\n",
    "# 샘플링한 정보 데이터프레임으로 변환\n",
    "X_resampled_df = pd.DataFrame(X_resampled, columns=X.columns)\n",
    "X_balanced_train_df = pd.concat([pd.DataFrame(X_majority, columns=X.columns), X_resampled_df], axis=0, ignore_index=True)\n",
    "\n",
    "y_resampled_df = np.concatenate((y_majority, y_resampled))\n",
    "y_balanced_train_df = pd.DataFrame(y_resampled_df, columns=['Churn'])"
   ]
  },
  {
   "cell_type": "code",
   "execution_count": 199,
   "id": "8d6c81e3-c652-4956-b08b-265e81c2a5a3",
   "metadata": {},
   "outputs": [
    {
     "data": {
      "text/html": [
       "<div>\n",
       "<style scoped>\n",
       "    .dataframe tbody tr th:only-of-type {\n",
       "        vertical-align: middle;\n",
       "    }\n",
       "\n",
       "    .dataframe tbody tr th {\n",
       "        vertical-align: top;\n",
       "    }\n",
       "\n",
       "    .dataframe thead th {\n",
       "        text-align: right;\n",
       "    }\n",
       "</style>\n",
       "<table border=\"1\" class=\"dataframe\">\n",
       "  <thead>\n",
       "    <tr style=\"text-align: right;\">\n",
       "      <th></th>\n",
       "      <th>tenure</th>\n",
       "      <th>MonthlyCharges</th>\n",
       "      <th>TotalCharges</th>\n",
       "      <th>internet_cnt</th>\n",
       "      <th>Contract</th>\n",
       "      <th>InternetService_DSL</th>\n",
       "      <th>InternetService_Fiber optic</th>\n",
       "      <th>InternetService_No</th>\n",
       "      <th>PaymentMethod_Bank transfer (automatic)</th>\n",
       "      <th>PaymentMethod_Credit card (automatic)</th>\n",
       "      <th>PaymentMethod_Electronic check</th>\n",
       "      <th>PaymentMethod_Mailed check</th>\n",
       "      <th>gender</th>\n",
       "      <th>SeniorCitizen</th>\n",
       "      <th>Partner</th>\n",
       "      <th>Dependents</th>\n",
       "      <th>PhoneService</th>\n",
       "      <th>PaperlessBilling</th>\n",
       "      <th>Churn</th>\n",
       "    </tr>\n",
       "  </thead>\n",
       "  <tbody>\n",
       "    <tr>\n",
       "      <th>0</th>\n",
       "      <td>1</td>\n",
       "      <td>29.85</td>\n",
       "      <td>29.85</td>\n",
       "      <td>1</td>\n",
       "      <td>0</td>\n",
       "      <td>1.0</td>\n",
       "      <td>0.0</td>\n",
       "      <td>0.0</td>\n",
       "      <td>0.0</td>\n",
       "      <td>0.0</td>\n",
       "      <td>1.0</td>\n",
       "      <td>0.0</td>\n",
       "      <td>0</td>\n",
       "      <td>0</td>\n",
       "      <td>1</td>\n",
       "      <td>0</td>\n",
       "      <td>0</td>\n",
       "      <td>1</td>\n",
       "      <td>0</td>\n",
       "    </tr>\n",
       "    <tr>\n",
       "      <th>1</th>\n",
       "      <td>34</td>\n",
       "      <td>56.95</td>\n",
       "      <td>1889.50</td>\n",
       "      <td>1</td>\n",
       "      <td>1</td>\n",
       "      <td>1.0</td>\n",
       "      <td>0.0</td>\n",
       "      <td>0.0</td>\n",
       "      <td>0.0</td>\n",
       "      <td>0.0</td>\n",
       "      <td>0.0</td>\n",
       "      <td>1.0</td>\n",
       "      <td>1</td>\n",
       "      <td>0</td>\n",
       "      <td>0</td>\n",
       "      <td>0</td>\n",
       "      <td>1</td>\n",
       "      <td>0</td>\n",
       "      <td>0</td>\n",
       "    </tr>\n",
       "    <tr>\n",
       "      <th>2</th>\n",
       "      <td>45</td>\n",
       "      <td>42.30</td>\n",
       "      <td>1840.75</td>\n",
       "      <td>1</td>\n",
       "      <td>1</td>\n",
       "      <td>1.0</td>\n",
       "      <td>0.0</td>\n",
       "      <td>0.0</td>\n",
       "      <td>1.0</td>\n",
       "      <td>0.0</td>\n",
       "      <td>0.0</td>\n",
       "      <td>0.0</td>\n",
       "      <td>1</td>\n",
       "      <td>0</td>\n",
       "      <td>0</td>\n",
       "      <td>0</td>\n",
       "      <td>0</td>\n",
       "      <td>0</td>\n",
       "      <td>0</td>\n",
       "    </tr>\n",
       "    <tr>\n",
       "      <th>3</th>\n",
       "      <td>22</td>\n",
       "      <td>89.10</td>\n",
       "      <td>1949.40</td>\n",
       "      <td>1</td>\n",
       "      <td>0</td>\n",
       "      <td>0.0</td>\n",
       "      <td>1.0</td>\n",
       "      <td>0.0</td>\n",
       "      <td>0.0</td>\n",
       "      <td>1.0</td>\n",
       "      <td>0.0</td>\n",
       "      <td>0.0</td>\n",
       "      <td>1</td>\n",
       "      <td>0</td>\n",
       "      <td>0</td>\n",
       "      <td>1</td>\n",
       "      <td>1</td>\n",
       "      <td>1</td>\n",
       "      <td>0</td>\n",
       "    </tr>\n",
       "    <tr>\n",
       "      <th>4</th>\n",
       "      <td>10</td>\n",
       "      <td>29.75</td>\n",
       "      <td>301.90</td>\n",
       "      <td>1</td>\n",
       "      <td>0</td>\n",
       "      <td>1.0</td>\n",
       "      <td>0.0</td>\n",
       "      <td>0.0</td>\n",
       "      <td>0.0</td>\n",
       "      <td>0.0</td>\n",
       "      <td>0.0</td>\n",
       "      <td>1.0</td>\n",
       "      <td>0</td>\n",
       "      <td>0</td>\n",
       "      <td>0</td>\n",
       "      <td>0</td>\n",
       "      <td>0</td>\n",
       "      <td>0</td>\n",
       "      <td>0</td>\n",
       "    </tr>\n",
       "  </tbody>\n",
       "</table>\n",
       "</div>"
      ],
      "text/plain": [
       "   tenure  MonthlyCharges  TotalCharges  internet_cnt  Contract  \\\n",
       "0       1           29.85         29.85             1         0   \n",
       "1      34           56.95       1889.50             1         1   \n",
       "2      45           42.30       1840.75             1         1   \n",
       "3      22           89.10       1949.40             1         0   \n",
       "4      10           29.75        301.90             1         0   \n",
       "\n",
       "   InternetService_DSL  InternetService_Fiber optic  InternetService_No  \\\n",
       "0                  1.0                          0.0                 0.0   \n",
       "1                  1.0                          0.0                 0.0   \n",
       "2                  1.0                          0.0                 0.0   \n",
       "3                  0.0                          1.0                 0.0   \n",
       "4                  1.0                          0.0                 0.0   \n",
       "\n",
       "   PaymentMethod_Bank transfer (automatic)  \\\n",
       "0                                      0.0   \n",
       "1                                      0.0   \n",
       "2                                      1.0   \n",
       "3                                      0.0   \n",
       "4                                      0.0   \n",
       "\n",
       "   PaymentMethod_Credit card (automatic)  PaymentMethod_Electronic check  \\\n",
       "0                                    0.0                             1.0   \n",
       "1                                    0.0                             0.0   \n",
       "2                                    0.0                             0.0   \n",
       "3                                    1.0                             0.0   \n",
       "4                                    0.0                             0.0   \n",
       "\n",
       "   PaymentMethod_Mailed check  gender  SeniorCitizen  Partner  Dependents  \\\n",
       "0                         0.0       0              0        1           0   \n",
       "1                         1.0       1              0        0           0   \n",
       "2                         0.0       1              0        0           0   \n",
       "3                         0.0       1              0        0           1   \n",
       "4                         1.0       0              0        0           0   \n",
       "\n",
       "   PhoneService  PaperlessBilling  Churn  \n",
       "0             0                 1      0  \n",
       "1             1                 0      0  \n",
       "2             0                 0      0  \n",
       "3             1                 1      0  \n",
       "4             0                 0      0  "
      ]
     },
     "execution_count": 199,
     "metadata": {},
     "output_type": "execute_result"
    }
   ],
   "source": [
    "# 독립변수, 종속변수 다시 합쳐서 저장\n",
    "resampled_df = pd.concat([X_balanced_train_df, y_balanced_train_df], axis=1)\n",
    "resampled_df.head()"
   ]
  },
  {
   "cell_type": "code",
   "execution_count": 202,
   "id": "94377c6d-6588-4b74-bc02-aa70b866f3e2",
   "metadata": {},
   "outputs": [],
   "source": [
    "resampled_df.to_csv('Telco_resampled.csv', index=False)"
   ]
  },
  {
   "cell_type": "code",
   "execution_count": 204,
   "id": "551b1aef-63b7-4571-852e-fd97a5dc474a",
   "metadata": {},
   "outputs": [
    {
     "data": {
      "text/plain": [
       "Churn\n",
       "0    5163\n",
       "1    1869\n",
       "Name: count, dtype: int64"
      ]
     },
     "execution_count": 204,
     "metadata": {},
     "output_type": "execute_result"
    }
   ],
   "source": [
    "y.value_counts()"
   ]
  },
  {
   "cell_type": "markdown",
   "id": "df43a878-e302-4d8a-9fbc-1010a29fd9b6",
   "metadata": {},
   "source": [
    "#### 간단하게 로지스틱만 돌려보기"
   ]
  },
  {
   "cell_type": "code",
   "execution_count": null,
   "id": "3ee6f4c8-e992-4350-8c51-2c3d45fc6031",
   "metadata": {},
   "outputs": [],
   "source": [
    "from sklearn.linear_model import LogisticRegression\n",
    "\n",
    "logistic_reg = LogisticRegression()\n",
    "logistic_reg.fit(x_balanced_train_df, y_balanced_train_df)\n",
    "\n",
    "# 학습된 모델의 계수(coefficients) 및 절편(intercept) 출력\n",
    "coefficients = logistic_reg.coef_\n",
    "intercept = logistic_reg.intercept_\n",
    "\n",
    "print('#'*20, '학습된 파라미터 값', '#'*20)\n",
    "print(coefficients)\n",
    "\n",
    "print('#'*20, '학습된 절편 값', '#'*20)\n",
    "print(intercept)"
   ]
  },
  {
   "cell_type": "code",
   "execution_count": null,
   "id": "de897f39-a348-4b96-bf1e-253fe7ee09d9",
   "metadata": {},
   "outputs": [],
   "source": [
    "from sklearn.metrics import accuracy_score\n",
    "\n",
    "y_train_pred = logistic_reg.predict(X_train)\n",
    "y_test_pred = logistic_reg.predict(X_test)\n",
    "\n",
    "acc_train = accuracy_score(y_train, y_train_pred)\n",
    "acc_test = accuracy_score(y_test, y_test_pred)\n",
    "\n",
    "print(f'학습 데이터를 이용한 Acc 값 : {acc_train*100:.1f}%')\n",
    "print(f'평가 데이터를 이용한 Acc 값 : {acc_test*100:.1f}%')"
   ]
  },
  {
   "cell_type": "code",
   "execution_count": null,
   "id": "ac0bd792-65c0-4d3a-9629-2cf018b11cd0",
   "metadata": {},
   "outputs": [],
   "source": [
    "from sklearn.metrics import confusion_matrix\n",
    "\n",
    "cm_train = confusion_matrix(y_train, y_train_pred)\n",
    "cm_test = confusion_matrix(y_test, y_test_pred)\n",
    "\n",
    "plt.imshow(cm_train, interpolation='nearest', cmap='Blues')\n",
    "plt.title(\"Confusion Matrix (Train)\")\n",
    "plt.colorbar()\n",
    "tick_marks = np.arange(len(np.unique(y_train)))\n",
    "plt.xticks(tick_marks, np.unique(y_train))\n",
    "plt.yticks(tick_marks, np.unique(y_train))\n",
    "plt.xlabel(\"Predicted Label\")\n",
    "plt.ylabel(\"True Label\")\n",
    "\n",
    "# 각 셀에 숫자 표시\n",
    "for i in range(cm_train.shape[0]):\n",
    "    for j in range(cm_train.shape[1]):\n",
    "        plt.text(j, i, cm_train[i, j], ha=\"center\", va=\"center\", color=\"black\")"
   ]
  },
  {
   "cell_type": "code",
   "execution_count": null,
   "id": "eaf6a48b-6709-4d8c-bfb1-47cddf3e36eb",
   "metadata": {},
   "outputs": [],
   "source": [
    "coeff_df = pd.DataFrame({'feature': X_train.columns, 'coefficient': logistic_reg.coef_.flatten()})\n",
    "\n",
    "# 계수의 절대값을 기준으로 내림차순 정렬\n",
    "coeff_df['abs_coefficient'] = coeff_df['coefficient'].abs()\n",
    "coeff_df_sorted = coeff_df.sort_values(by='abs_coefficient', ascending=False)\n",
    "\n",
    "# 변수의 영향력을 확인\n",
    "coeff_df_sorted"
   ]
  },
  {
   "cell_type": "code",
   "execution_count": null,
   "id": "3750e7d4-640b-4697-a967-885d6873084a",
   "metadata": {},
   "outputs": [],
   "source": [
    "# 변수 영향력 시각화\n",
    "plt.figure(figsize=(10, 6))\n",
    "plt.barh(X_train.columns, logistic_reg.coef_.flatten())\n",
    "plt.xlabel('Coefficient')\n",
    "plt.ylabel('Features')\n",
    "plt.title('Features Importance')\n",
    "plt.show()"
   ]
  },
  {
   "cell_type": "code",
   "execution_count": null,
   "id": "63870e02-6e4f-42b4-bedc-89c57d4b210e",
   "metadata": {},
   "outputs": [],
   "source": [
    "# 정밀도, 재현율, F1 값 비교\n",
    "from sklearn.metrics import precision_score, recall_score, f1_score\n",
    "\n",
    "precision_train = precision_score(y_train, y_train_pred)\n",
    "recall_train = recall_score(y_train, y_train_pred)\n",
    "f1_train = f1_score(y_train, y_train_pred)\n",
    "print(f'Logistic Regression train의 P,R,F1 : {precision_train:.2f} / {recall_train:.2f} / {f1_train:.2f}')"
   ]
  },
  {
   "cell_type": "code",
   "execution_count": null,
   "id": "02a6c718-b828-43f6-9cb2-227ba7d4cd72",
   "metadata": {},
   "outputs": [],
   "source": []
  }
 ],
 "metadata": {
  "kernelspec": {
   "display_name": "Python 3 (ipykernel)",
   "language": "python",
   "name": "python3"
  },
  "language_info": {
   "codemirror_mode": {
    "name": "ipython",
    "version": 3
   },
   "file_extension": ".py",
   "mimetype": "text/x-python",
   "name": "python",
   "nbconvert_exporter": "python",
   "pygments_lexer": "ipython3",
   "version": "3.11.7"
  }
 },
 "nbformat": 4,
 "nbformat_minor": 5
}
