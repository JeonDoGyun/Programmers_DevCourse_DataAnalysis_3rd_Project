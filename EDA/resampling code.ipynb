{
 "cells": [
  {
   "cell_type": "markdown",
   "id": "b432dbd1-2744-4930-9d9e-2f0e32db9737",
   "metadata": {},
   "source": [
    "### 데이터에 대한 오버샘플링\n",
    "- 원래는 훈련 데이터만 오버샘플링해서 썼는데, csv로 저장해서 보낸다고 원본 데이터에 적용했습니다.\n",
    "- 0이 5163개여서 거기에 오버샘플링만 적용해서 총 10326개의 행으로 되어있습니다. "
   ]
  },
  {
   "cell_type": "code",
   "execution_count": null,
   "id": "f99cbed1-8ae6-4f10-b9bb-3c163ff4b0f9",
   "metadata": {},
   "outputs": [],
   "source": [
    "from sklearn.utils import resample\n",
    "\n",
    "# 독립변수, 종속변수 지정 (X 부분은 각자가 한 부분으로 변형해서 사용하면 됩니다)\n",
    "X = pd.concat([numeric_y, time_df_label_encoded, multi_class_category_df_encoded, binary_class_category_df], axis=1)\n",
    "X.drop('Churn', axis=1, inplace=True)\n",
    "y = y_column\n",
    "\n",
    "# 1의 값을 가지는 샘플들과 0의 값을 가지는 샘플들로 분리\n",
    "X_minority = X[y == 1]\n",
    "X_majority = X[y == 0]\n",
    "y_minority = y[y == 1]\n",
    "y_majority = y[y == 0]\n",
    "\n",
    "# 소수 클래스(1)에 해당하는 샘플들을 복원 추출하여 다수 클래스(0)의 샘플 수와 동일하게 오버샘플링\n",
    "X_resampled, y_resampled = resample(X_minority,\n",
    "                                    y_minority,\n",
    "                                    replace=True,\n",
    "                                    n_samples=X_majority.shape[0],  # 다수 클래스 샘플 수와 동일하게 오버샘플링\n",
    "                                    random_state=42)\n",
    "# 샘플링한 정보 데이터프레임으로 변환\n",
    "X_resampled_df = pd.DataFrame(X_resampled, columns=X.columns)\n",
    "X_balanced_train_df = pd.concat([pd.DataFrame(X_majority, columns=X.columns), X_resampled_df], axis=0, ignore_index=True)\n",
    "\n",
    "y_resampled_df = np.concatenate((y_majority, y_resampled))\n",
    "y_balanced_train_df = pd.DataFrame(y_resampled_df, columns=['Churn'])"
   ]
  },
  {
   "cell_type": "code",
   "execution_count": null,
   "id": "1aa648fb-e627-43ee-a84d-4852ca20cd22",
   "metadata": {},
   "outputs": [],
   "source": [
    "# 독립변수, 종속변수 다시 합쳐서 저장\n",
    "resampled_df = pd.concat([X_balanced_train_df, y_balanced_train_df], axis=1)\n",
    "resampled_df.head()"
   ]
  },
  {
   "cell_type": "code",
   "execution_count": null,
   "id": "59bbd117-c852-4e7d-96f3-af91f2f56774",
   "metadata": {},
   "outputs": [],
   "source": [
    "# csv 저장\n",
    "resampled_df.to_csv('Telco_resampled.csv', index=False)"
   ]
  }
 ],
 "metadata": {
  "kernelspec": {
   "display_name": "Python 3 (ipykernel)",
   "language": "python",
   "name": "python3"
  },
  "language_info": {
   "codemirror_mode": {
    "name": "ipython",
    "version": 3
   },
   "file_extension": ".py",
   "mimetype": "text/x-python",
   "name": "python",
   "nbconvert_exporter": "python",
   "pygments_lexer": "ipython3",
   "version": "3.11.7"
  }
 },
 "nbformat": 4,
 "nbformat_minor": 5
}
